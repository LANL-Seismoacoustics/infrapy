{
 "cells": [
  {
   "cell_type": "markdown",
   "metadata": {},
   "source": [
    "# Infrapy Quick Start"
   ]
  },
  {
   "cell_type": "markdown",
   "metadata": {},
   "source": [
    "A series of scripts illustrating how to use infrapy subroutines as stand-alone modules are found in the /examples folder. The Quick Start section of the Infrapy documentation will walk you through running these scripts, or you can run them interactively below."
   ]
  },
  {
   "cell_type": "markdown",
   "metadata": {},
   "source": [
    "## Beamforming:"
   ]
  },
  {
   "cell_type": "markdown",
   "metadata": {},
   "source": [
    "Run Bartlett, Capon or Generalized Least Squares beamforming processes on an hour-long dataset from the BRP array in Utah"
   ]
  },
  {
   "cell_type": "code",
   "execution_count": null,
   "metadata": {},
   "outputs": [],
   "source": [
    "import numpy as np\n",
    "from multiprocess import Pool\n",
    "import matplotlib.pyplot as plt\n",
    "import matplotlib.cm as cm\n",
    "palette = cm.jet\n",
    "import matplotlib.ticker as mtick\n",
    "from obspy.core import read\n",
    "from scipy import signal\n",
    "from infrapy.detection import beamforming_new\n",
    "\n",
    "import warnings\n",
    "warnings.filterwarnings(\"ignore\")\n",
    "\n",
    "%matplotlib notebook"
   ]
  },
  {
   "cell_type": "code",
   "execution_count": null,
   "metadata": {},
   "outputs": [],
   "source": [
    "# ######################### #\n",
    "#     Define Parameters     #\n",
    "# ######################### #\n",
    "sac_glob = \"../examples/data/*BRP*.SAC\" ## load in SAC files for processing\n",
    "\n",
    "freq_min, freq_max = 0.5, 2.5 ## define frequency band of interest\n",
    "window_length, window_step = 10.0, 2.5 ## define window length and window step for beamforming\n",
    "\n",
    "ns_start, ns_end = 100.0, 400.0 ## define noise window (in sec); only needed for GLS processing\n",
    "sig_start, sig_end = 600, 800 ## define signal window [time window in sec used for analysis]\n",
    "\n",
    "back_az_vals = np.arange(-180.0, 180.0, 1.5)\n",
    "trc_vel_vals = np.arange(300.0, 600.0, 2.5)\n",
    "\n",
    "method=\"bartlett\" ## beamforming method; options are bartlett, capon, GLS\n",
    "\n",
    "p = Pool(4) ## define number of CPUs used for processing"
   ]
  },
  {
   "cell_type": "code",
   "execution_count": null,
   "metadata": {},
   "outputs": [],
   "source": [
    "# ######################### #\n",
    "#  Read, Shift Start Time,  #\n",
    "#      and Filter Data      #\n",
    "# ######################### #\n",
    "x, t, t0, geom = beamforming_new.stream_to_array_data(read(sac_glob))\n",
    "M, N = x.shape"
   ]
  },
  {
   "cell_type": "code",
   "execution_count": null,
   "metadata": {},
   "outputs": [],
   "source": [
    "# ######################### #\n",
    "#         View Data         #\n",
    "# ######################### #\n",
    "plt.figure()\n",
    "for m in range(M):\n",
    "    plt.subplot(M, 1, m + 1)\n",
    "    plt.xlim([0, t[-1]])\n",
    "    plt.plot(t, x[m], 'k-')\n",
    "    plt.axvspan(xmin = sig_start , xmax = sig_end, alpha = 0.25, color = 'blue')\n",
    "    if method == \"gls\":\n",
    "        plt.axvspan(xmin = ns_start , xmax = ns_end, alpha = 0.25, color = 'red')\n",
    "    if m < (M - 1) : plt.setp(plt.subplot(M, 1, m + 1).get_xticklabels(), visible=False)\n",
    "\n",
    "if method == \"gls\":\n",
    "    plt.suptitle(\"Data windows for signal (blue) and noise (red) \\n Filtered in frequency range: \" + str(freq_min) + \" - \" + str(freq_max) + \"  Hz \\n \")\n",
    "else:\n",
    "    plt.suptitle(\"Data window for analysis \\n Filtered in frequency range: \" + str(freq_min) + \" - \" + str(freq_max) + \"  Hz \\n \")\n",
    "\n",
    "plt.show(block=False)\n",
    "plt.pause(0.1)"
   ]
  },
  {
   "cell_type": "code",
   "execution_count": null,
   "metadata": {},
   "outputs": [],
   "source": [
    "# ######################### #\n",
    "#        Run Methods        #\n",
    "# ######################### #\n",
    "\n",
    "# define slowness and delays\n",
    "slowness = beamforming_new.build_slowness(back_az_vals, trc_vel_vals)\n",
    "delays = beamforming_new.compute_delays(geom, slowness)\n",
    "\n",
    "# define the noise covariance if using generalized least squares method\n",
    "if method == \"gls\":\n",
    "    _, S, _ = beamforming_new.fft_array_data(x, t, window=[ns_start, ns_end], sub_window_len=window_length)\n",
    "\n",
    "    ns_covar_inv = np.empty_like(S)\n",
    "    for n in range(S.shape[2]):\n",
    "        S[:, :, n] += 1.0e-3 * np.mean(np.diag(S[:, :, n])) * np.eye(S.shape[0])\n",
    "        ns_covar_inv[:, :, n] = np.linalg.inv(S[:, :, n])\n",
    "else:\n",
    "    ns_covar_inv = None\n",
    "\n",
    "\n",
    "\n",
    "# Run beamforming in windowed data and write to file\n",
    "times, beam_results = [],[]\n",
    "for window_start in np.arange(sig_start, sig_end, window_step):\n",
    "    if window_start + window_length > sig_end:\n",
    "        break\n",
    "\n",
    "    times = times + [[t0 + np.timedelta64(int(window_start), 's')]]\n",
    "    X, S, f = beamforming_new.fft_array_data(x, t, window=[window_start, window_start + window_length])\n",
    "    beam_power = beamforming_new.run(X, S, f, geom, delays, [freq_min, freq_max], method=\"bartlett\", pool=p, normalize_beam=True, ns_covar_inv=ns_covar_inv)\n",
    "    peaks = beamforming_new.find_peaks(beam_power, back_az_vals, trc_vel_vals, signal_cnt=1)\n",
    "    beam_results = beam_results + [[peaks[0][0], peaks[0][1], peaks[0][2] / (1.0 - peaks[0][2]) * (x.shape[0] - 1)]]\n",
    "\n",
    "times = np.array(times)[:, 0]\n",
    "beam_results = np.array(beam_results)\n"
   ]
  },
  {
   "cell_type": "code",
   "execution_count": null,
   "metadata": {},
   "outputs": [],
   "source": [
    "# Prep figure\n",
    "f, a = plt.subplots(4, sharex=True)\n",
    "plt.xlim([sig_start, sig_end])\n",
    "a[3].set_xlabel(\"Time [s]\")\n",
    "a[3].set_ylabel(\"Pr. [Pa]\")\n",
    "a[2].set_ylabel(\"Back Az. [deg.]\")\n",
    "a[1].set_ylabel(\"Tr. Vel. [m/s]\")\n",
    "if method == \"music\":\n",
    "    a[0].set_ylabel(\"Beam Power\")\n",
    "else:\n",
    "    a[0].set_ylabel(\"log10(F-value)\")\n",
    "\n",
    "a[3].plot(t, x[1,:], '-k')\n",
    "plt.suptitle(\"Frequency range: \" + str(freq_min) + \" - \" + str(freq_max) + \" Hz \\n window size \" + str(window_length) + \" seconds, window step \" + str(window_step) +  \" seconds\")\n",
    "\n",
    "for aa in range(len(times)):\n",
    "    dt = times[aa]-times[0]\n",
    "    start = dt.item().total_seconds() \n",
    "    start = start + sig_start\n",
    "    if method == \"music\":\n",
    "        a[2].plot([start + 1.0 / 2.0 * window_length], [beam_results[aa][0]], 'ok', markersize=3.3)\n",
    "        a[1].plot([start + 1.0 / 2.0 * window_length], [beam_results[aa][1]], 'ok', markersize=3.3)\n",
    "        a[0].plot([start + 1.0 / 2.0 * window_length], [beam_results[aa][2]], 'ok', markersize=3.3)\n",
    "        plt.pause(0.1)\n",
    "    else:\n",
    "        a[2].plot([start + 1.0 / 2.0 * window_length], [beam_results[aa][0]], 'ok', markersize=3.3)\n",
    "        a[1].plot([start + 1.0 / 2.0 * window_length], [beam_results[aa][1]], 'ok', markersize=3.3)\n",
    "        a[0].plot([start + 1.0 / 2.0 * window_length], [beam_results[aa][2]], 'ok', markersize=3.3)\n",
    "plt.show(block=False)"
   ]
  },
  {
   "cell_type": "code",
   "execution_count": null,
   "metadata": {},
   "outputs": [],
   "source": [
    "# ########################## #\n",
    "#        Save Results        #\n",
    "# ########################## #\n",
    "\n",
    "np.save(\"times\", times)\n",
    "np.save(\"beam_results\", beam_results)"
   ]
  },
  {
   "cell_type": "code",
   "execution_count": null,
   "metadata": {},
   "outputs": [],
   "source": [
    "# ####################################### #\n",
    "#        Define Beam and Residuals        #\n",
    "# ####################################### #\n",
    "back_az = beam_results[np.argmax(beam_results[:, 2]), 0]\n",
    "tr_vel = beam_results[np.argmax(beam_results[:, 2]), 1]\n",
    "\n",
    "X, S, f = beamforming_new.fft_array_data(x, t, window=[sig_start, sig_end], fft_window=\"boxcar\")\n",
    "sig_est, residual = beamforming_new.extract_signal(X, f, np.array([back_az, tr_vel]), geom)\n",
    "\n",
    "plt.figure()\n",
    "plt.loglog(f, abs(sig_est), '-b', linewidth=1.0)\n",
    "plt.loglog(f, np.mean(abs(residual), axis=0), '-k', linewidth=0.5)\n",
    "\n",
    "signal_wvfrm = np.fft.irfft(sig_est) / (t[1] - t[0])\n",
    "resid_wvfrms = np.fft.irfft(residual, axis=1) / (t[1] - t[0])\n",
    "t_mask = np.logical_and(sig_start < t, t < sig_end)\n",
    "\n",
    "plt.figure()\n",
    "for m in range(M):\n",
    "    plt.subplot(M + 1, 1, m + 1)\n",
    "    plt.xlim([t[t_mask][0], t[t_mask][-1]])\n",
    "    plt.plot(t[t_mask], x[m, t_mask], '0.5')\n",
    "    plt.plot(t[t_mask], resid_wvfrms[m, :len(t[t_mask])], 'k-')\n",
    "    plt.setp(plt.subplot(M + 1, 1, m + 1).get_xticklabels(), visible=False)\n",
    "plt.subplot(M + 1, 1, M + 1)\n",
    "plt.xlim([t[t_mask][0], t[t_mask][-1]])\n",
    "plt.plot(t[t_mask], signal_wvfrm[:len(t[t_mask])], 'b-')"
   ]
  },
  {
   "cell_type": "markdown",
   "metadata": {},
   "source": [
    "## Detection"
   ]
  },
  {
   "cell_type": "markdown",
   "metadata": {},
   "source": [
    "Run detection on the series of beamforming results produced in the above step "
   ]
  },
  {
   "cell_type": "code",
   "execution_count": null,
   "metadata": {},
   "outputs": [],
   "source": [
    "\n",
    "# ######################### #\n",
    "#     Define Parameters     #\n",
    "# ######################### #\n",
    "\n",
    "# Detection params\n",
    "# times_file, beam_results_file = None, None\n",
    "times_file, beam_results_file = \"times.npy\", \"beam_results.npy\"\n",
    "\n",
    "det_win_len = 60 * 5\n",
    "det_thresh = 0.99\n",
    "min_seq = 5\n",
    "det_method = \"fstat\"\n",
    "TB_prod = 40 * 10\n",
    "back_az_lim = 10\n",
    "M=4"
   ]
  },
  {
   "cell_type": "code",
   "execution_count": null,
   "metadata": {},
   "outputs": [],
   "source": [
    "# ################################## #\n",
    "#   Load data and prepare analysis   #\n",
    "# ################################## #\n",
    "\n",
    "if times_file and beam_results_file:\n",
    "    times = np.load(times_file)\n",
    "    beam_results = np.load(beam_results_file)\n",
    "else:\n",
    "    print('No beamforming input provided')\n"
   ]
  },
  {
   "cell_type": "code",
   "execution_count": null,
   "metadata": {},
   "outputs": [],
   "source": [
    "# ################################## #\n",
    "#       Run detection analysis       #\n",
    "# ################################## #\n",
    "\n",
    "dets = beamforming_new.detect_signals(times, beam_results, det_win_len, TB_prod, channel_cnt=M, det_thresh=det_thresh, min_seq=min_seq, back_az_lim=back_az_lim)"
   ]
  },
  {
   "cell_type": "code",
   "execution_count": null,
   "metadata": {},
   "outputs": [],
   "source": [
    "# ################################## #\n",
    "#       Print Detection Summary      #\n",
    "# ################################## #\n",
    "print('\\n' + \"Detection Summary:\")\n",
    "for det in dets:\n",
    "    print(\"Detection time:\", det[0], '\\t', \"Rel. detection onset:\", det[1], '\\t',\"Rel. detection end:\", det[2], '\\t',end=' ')\n",
    "    print(\"Back azimuth:\", det[3], '\\t', \"Trace velocity:\", det[4], '\\t', \"F-stat:\", det[5], '\\t', \"Array dim:\", M)"
   ]
  },
  {
   "cell_type": "code",
   "execution_count": null,
   "metadata": {},
   "outputs": [],
   "source": [
    "def find_nearest(a, a0):\n",
    "    \"Element in nd array `a` closest to the scalar value `a0`\"\n",
    "    idx = np.abs(a - a0).argmin()\n",
    "    return a.flat[idx]"
   ]
  },
  {
   "cell_type": "code",
   "execution_count": null,
   "metadata": {},
   "outputs": [],
   "source": [
    "# ################################## #\n",
    "#       Plot Detection Results       #\n",
    "# ################################## #\n",
    "\n",
    "plt.figure()\n",
    "plt.suptitle(\"Detection results for analysis \\n Filtered in frequency range: \" + str(freq_min) + \" - \" + str(freq_max) + \"  Hz \\n \")\n",
    "\n",
    "for det in range(len(dets)):\n",
    "    dt = dets[det][0]-times[0] \n",
    "    start = dt.item().total_seconds() \n",
    "    ts = sig_start + start + dets[det][1]\n",
    "    te = sig_start + start + dets[det][2]\n",
    "    for m in range(M):\n",
    "        plt.subplot(M, 1, m + 1)\n",
    "        plt.xlim([sig_start, sig_end])\n",
    "        plt.plot(t, x[m], 'k-')\n",
    "        plt.axvspan(xmin = ts , xmax = te, alpha = 0.25, color = 'red')\n",
    "        if m < (M - 1) : plt.setp(plt.subplot(M, 1, m + 1).get_xticklabels(), visible=False)\n",
    "    \n",
    "\n",
    "f, a = plt.subplots(4, sharex=True)\n",
    "plt.xlim([sig_start, sig_end])\n",
    "a[3].set_xlabel(\"Time [s]\")\n",
    "a[3].set_ylabel(\"Pr. [Pa]\")\n",
    "a[2].set_ylabel(\"Back Az. [deg.]\")\n",
    "a[1].set_ylabel(\"Tr. Vel. [m/s]\")\n",
    "if method == \"music\":\n",
    "    a[0].set_ylabel(\"Beam Power\")\n",
    "else:\n",
    "    a[0].set_ylabel(\"log10(F-value)\")\n",
    "\n",
    "a[3].plot(t, x[1,:], '-k')\n",
    "plt.suptitle(\"Detection Processing Results\")\n",
    "\n",
    "position = []     \n",
    "for det in range(len(dets)):\n",
    "    dt = dets[det][0]-times[0] \n",
    "    start = dt.item().total_seconds() \n",
    "    ts = sig_start + start + dets[det][1]\n",
    "    te = sig_start + start + dets[det][2]\n",
    "    a[3].axvspan(xmin = ts , xmax = te, alpha = 0.25, color = 'red')\n",
    "\n",
    "    duration = te-ts\n",
    "    duration = duration/window_step\n",
    "\n",
    "    for bb in range(0,int(duration),1):\n",
    "        temp = dets[det][0]+np.timedelta64(int(dets[det][1]),'s')+np.timedelta64(int(window_step*bb),'s')\n",
    "        det_time=find_nearest(times, temp)\n",
    "        det_times = np.where(times==det_time)\n",
    "        pos = det_times[0][0]\n",
    "        position.append(pos)\n",
    "for aa in range(len(times)):\n",
    "    dt = times[aa]-times[0]\n",
    "    start = dt.item().total_seconds() \n",
    "    start = start + sig_start\n",
    "    a[2].plot([start], [beam_results[aa][0]], 'ok', markersize=3.3)\n",
    "    a[1].plot([start], [beam_results[aa][1]], 'ok', markersize=3.3)\n",
    "    a[0].plot([start], [beam_results[aa][2]], 'ok', markersize=3.3)\n",
    "for aa in position:\n",
    "    dt = times[aa]-times[0]\n",
    "    start = dt.item().total_seconds() \n",
    "    start = start + sig_start\n",
    "    a[2].plot([start], [beam_results[aa][0]], 'or', markersize=3.3)\n",
    "    a[1].plot([start], [beam_results[aa][1]], 'or', markersize=3.3)\n",
    "    a[0].plot([start], [beam_results[aa][2]], 'or', markersize=3.3)\n",
    "\n",
    "plt.show(block=False)"
   ]
  },
  {
   "cell_type": "code",
   "execution_count": null,
   "metadata": {},
   "outputs": [],
   "source": [
    "########################################################\n",
    "##      Plot Detection Results in Slowness Space      ##\n",
    "########################################################\n",
    "\n",
    "for det in range(len(dets)):\n",
    "    dt = dets[det][0]-times[0] \n",
    "    start = dt.item().total_seconds() \n",
    "    ts = sig_start + start + dets[det][1]\n",
    "    te = sig_start + start + dets[det][2]\n",
    "    X, S, f = beamforming_new.fft_array_data(x, t, window=[ts, te])\n",
    "    beam_power = beamforming_new.run(X, S, f, geom, delays, [freq_min, freq_max], method=method, signal_cnt=1, pool=p, ns_covar_inv=ns_covar_inv, normalize_beam=True)\n",
    "\n",
    "    avg_beam_power = np.average(beam_power, axis=0)\n",
    "        #avg_beam_power = beamforming_new.multi_freq_beam(beam_power)\n",
    "    print('Detection #' + str(det+1))\n",
    "    plt.figure()\n",
    "    plt.clf()\n",
    "    plt.xlim([min(slowness[:, 0]), max(slowness[:, 0])])\n",
    "    plt.ylim([min(slowness[:, 1]), max(slowness[:, 1])])\n",
    "    if method == \"bartlett_covar\" or method == \"bartlett\" or method == \"gls\":\n",
    "        plt.scatter(slowness[:, 0], slowness[:, 1], c=avg_beam_power, cmap=palette, marker=\"o\", s=[12.5] * len(slowness), edgecolor='none', vmin=0.0, vmax=1.0)\n",
    "    else:\n",
    "        plt.scatter(slowness[:, 0], slowness[:, 1], c=avg_beam_power, cmap=palette, marker=\"o\", s=[12.5] * len(slowness), edgecolor='none', vmin=0.0, vmax=np.max(avg_beam_power))\n",
    "    plt.pause(1.0)\n",
    "\n",
    "    # Compute back azimuth projection of distribution\n",
    "    az_proj, tv_proj = beamforming_new.project_beam(beam_power, back_az_vals, trc_vel_vals, method=\"mean\")\n",
    "\n",
    "    plt.figure()\n",
    "    plt.suptitle(\"Average Beam Power\")\n",
    "\n",
    "    plt.clf()\n",
    "    plt.xlim([min(back_az_vals), max(back_az_vals)])\n",
    "    plt.xlabel('Backazimuth')\n",
    "    plt.ylabel('Avg. Beam Power')\n",
    "    if method == \"bartlett_covar\" or method == \"bartlett\" or method == \"gls\":\n",
    "        plt.ylim([0.0, 1.0])\n",
    "    else:\n",
    "        plt.ylim([0.0, np.max(avg_beam_power)])\n",
    "    plt.plot(back_az_vals, az_proj, '-k', linewidth=2.5)\n",
    "    plt.pause(0.2)"
   ]
  },
  {
   "cell_type": "markdown",
   "metadata": {},
   "source": [
    "## Association"
   ]
  },
  {
   "cell_type": "markdown",
   "metadata": {},
   "source": [
    "Associate a number of detections contained in a .dat file (/data/detection_set1.dat or /data/detection_set2.dat)"
   ]
  },
  {
   "cell_type": "code",
   "execution_count": null,
   "metadata": {},
   "outputs": [],
   "source": [
    "import numpy as np\n",
    "from multiprocess import Pool\n",
    "\n",
    "from infrapy.association import hjl\n",
    "from infrapy.propagation import likelihoods as lklhds"
   ]
  },
  {
   "cell_type": "code",
   "execution_count": null,
   "metadata": {},
   "outputs": [],
   "source": [
    "#########################\n",
    "### Define parameters ###\n",
    "#########################\n",
    "\n",
    "# Read in detections from file\n",
    "det_list = lklhds.json_to_detection_list('../examples/data/detection_set1.json')\n",
    "\n",
    "# define joint-likelihood calculation parameters\n",
    "width = 10.0\n",
    "rng_max = 3000.0\n",
    "\n",
    "# define clustering parameters\n",
    "dist_max = 10.0\n",
    "clustering_threshold = 5.0\n",
    "trimming_thresh = 3.0\n",
    "\n",
    "pl = Pool(4)"
   ]
  },
  {
   "cell_type": "code",
   "execution_count": null,
   "metadata": {},
   "outputs": [],
   "source": [
    "\n",
    "######################\n",
    "#### Run analysis ####\n",
    "######################\n",
    "labels, dists = hjl.run(det_list, clustering_threshold, dist_max=dist_max, bm_width=width, rng_max=rng_max, trimming_thresh=trimming_thresh, pool=pl,show_result=True)\n"
   ]
  },
  {
   "cell_type": "code",
   "execution_count": null,
   "metadata": {},
   "outputs": [],
   "source": [
    "############################\n",
    "#### Summarize Clusters ####\n",
    "############################\n",
    "clusters, qualities = hjl.summarize_clusters(labels, dists)\n",
    "for n in range(len(clusters)):\n",
    "    print(\"Cluster:\", clusters[n], '\\t', \"Cluster Quality:\", 10.0**(-qualities[n]))\n"
   ]
  },
  {
   "cell_type": "markdown",
   "metadata": {},
   "source": [
    "## Location"
   ]
  },
  {
   "cell_type": "markdown",
   "metadata": {},
   "source": [
    "Test the Bayesian Infrasonic Source Localization (BISL) methodology using a set of provided detections (/data/detection_set1.dat or /data/detection_set2.dat).  Location will be run twice, once assuming uniform atmospheric propagation and a second time applying provided atmospheric propagation priors for the Western US (see Blom et al., 2015 for further explanation)"
   ]
  },
  {
   "cell_type": "code",
   "execution_count": null,
   "metadata": {},
   "outputs": [],
   "source": [
    "import numpy as np\n",
    "\n",
    "from infrapy.location import bisl\n",
    "from infrapy.propagation import likelihoods as lklhds\n",
    "from infrapy.propagation import infrasound as infsnd"
   ]
  },
  {
   "cell_type": "code",
   "execution_count": null,
   "metadata": {},
   "outputs": [],
   "source": [
    "# ######################### #\n",
    "#       Define Inputs       #\n",
    "# ######################### #\n",
    "\n",
    "# Define ground_truth if known (41.131, -112.896 for UTTR; Test includes show in June 2004)\n",
    "grnd_trth = [41.131, -112.896, np.datetime64('2004-06-02T17:23:04.0')]\n",
    "\n",
    "# Define localization parameters\n",
    "bm_width = 12.5\n",
    "rad_min, rad_max = 50.0, 500.0\n",
    "rng_max = np.pi / 2.0 * 6370.0\n",
    "resolution = int(np.sqrt(1e5))"
   ]
  },
  {
   "cell_type": "code",
   "execution_count": null,
   "metadata": {},
   "outputs": [],
   "source": [
    "# ################################# #\n",
    "#       Define Detection List       #\n",
    "# ################################# #\n",
    "\n",
    "'''\n",
    "# Define the list of detections (output from association)\n",
    "# detection format: (lat, lon, arrival time, back az, F stat, elements)\n",
    "# arrival time format: datetime.datetime(year, month, day, hour, minute, second)\n",
    "det1 = lklhds.InfrasoundDetection(42.7668, -109.5939, np.datetime64('2004-06-02T17:42:14.0'), -125.6, 75.0, 4)\n",
    "det2 = lklhds.InfrasoundDetection(38.4296, -118.3036, np.datetime64('2004-06-02T17:50:38.0'),   56.6, 75.0, 4)\n",
    "det3 = lklhds.InfrasoundDetection(48.2641, -117.1257, np.datetime64('2004-06-02T18:09:14.0'),  157.5, 75.0, 4)\n",
    "det_list = [det1, det2, det3]\n",
    "'''\n",
    "\n",
    "# Load detection list from flat file\n",
    "#det_list = lklhds.file2dets(\"data/detection_set2.dat\")\n",
    "\n",
    "# Load detection list from json file\n",
    "det_list = lklhds.json_to_detection_list('../examples/data/detection_set2.json')"
   ]
  },
  {
   "cell_type": "code",
   "execution_count": null,
   "metadata": {},
   "outputs": [],
   "source": [
    "# ########################## #\n",
    "#          Run BISL          #\n",
    "#       in Verbose Mode      #\n",
    "# ########################## #\n",
    "\n",
    "# Run analysis without priors\n",
    "result,pdf = bisl.run(det_list, \n",
    "                    bm_width=bm_width,\n",
    "                    rad_min=rad_min, \n",
    "                    rad_max=rad_max, \n",
    "                    rng_max=rng_max, \n",
    "                    resol=resolution,angle=[-180,180])\n",
    "\n",
    "summary = bisl.summarize(result)"
   ]
  },
  {
   "cell_type": "code",
   "execution_count": null,
   "metadata": {},
   "outputs": [],
   "source": [
    "# ########################## #\n",
    "#     Display Results       #\n",
    "# ########################## #\n",
    "\n",
    "print('-' * 75)\n",
    "print('BISL Summary\\n')\n",
    "print(summary)\n",
    "print('\\n' + '-'*75 + '\\n')"
   ]
  },
  {
   "cell_type": "code",
   "execution_count": null,
   "metadata": {},
   "outputs": [],
   "source": [
    "# ########################## #\n",
    "#          Define Priors,    #\n",
    "#          Load from File    #\n",
    "#           and Display      #\n",
    "# ########################## #\n",
    "\n",
    "model = infsnd.PathGeometryModel()\n",
    "model.load(\"../infrapy/propagation/priors/UTTR_models/UTTR_06_1800UTC.pgm\")\n",
    "#model.display()"
   ]
  },
  {
   "cell_type": "code",
   "execution_count": null,
   "metadata": {},
   "outputs": [],
   "source": [
    "# ########################## #\n",
    "#          Run BISL          #\n",
    "#       in Verbose Mode      #\n",
    "# .       With Priors .      #\n",
    "# ########################## #\n",
    "\n",
    "result,pdf = bisl.run(det_list, \n",
    "                    bm_width=bm_width,\n",
    "                    rad_min=rad_min, \n",
    "                    rad_max=rad_max, \n",
    "                    rng_max=rng_max, \n",
    "                    resol=resolution,\n",
    "                    path_geo_model=model,angle=[-180,180])\n",
    "\n",
    "summary = bisl.summarize(result)"
   ]
  },
  {
   "cell_type": "code",
   "execution_count": null,
   "metadata": {},
   "outputs": [],
   "source": [
    "# ########################## #\n",
    "#     Display Results       #\n",
    "# ########################## #\n",
    "\n",
    "print('-' * 75)\n",
    "print('BISL Summary\\n')\n",
    "print(summary)\n",
    "print('\\n' + '-'*75 + '\\n')"
   ]
  },
  {
   "cell_type": "code",
   "execution_count": null,
   "metadata": {},
   "outputs": [],
   "source": []
  }
 ],
 "metadata": {
  "kernelspec": {
   "display_name": "Python 3",
   "language": "python",
   "name": "python3"
  },
  "language_info": {
   "codemirror_mode": {
    "name": "ipython",
    "version": 3
   },
   "file_extension": ".py",
   "mimetype": "text/x-python",
   "name": "python",
   "nbconvert_exporter": "python",
   "pygments_lexer": "ipython3",
   "version": "3.6.10"
  }
 },
 "nbformat": 4,
 "nbformat_minor": 2
}
