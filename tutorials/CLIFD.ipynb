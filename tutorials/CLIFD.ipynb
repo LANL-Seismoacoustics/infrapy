{
 "cells": [
  {
   "cell_type": "markdown",
   "metadata": {},
   "source": [
    "# Detection Processing (CLI)"
   ]
  },
  {
   "cell_type": "markdown",
   "metadata": {},
   "source": [
    "A series of steps to run detection using the Adaptive F-Detector on FK processing"
   ]
  },
  {
   "cell_type": "markdown",
   "metadata": {},
   "source": [
    "This notebook is dependent on successfully running FK processing on one or more arrays in the FKCLI notebook"
   ]
  },
  {
   "cell_type": "code",
   "execution_count": null,
   "metadata": {},
   "outputs": [],
   "source": [
    "import warnings\n",
    "warnings.filterwarnings(\"ignore\")\n",
    "\n",
    "%matplotlib notebook"
   ]
  },
  {
   "cell_type": "markdown",
   "metadata": {},
   "source": [
    "### Viewing the configuration file"
   ]
  },
  {
   "cell_type": "markdown",
   "metadata": {},
   "source": [
    "We will use the same configuration files as we used in the previous notebook.  You can use the %load command to view detection parameters"
   ]
  },
  {
   "cell_type": "code",
   "execution_count": null,
   "metadata": {},
   "outputs": [],
   "source": [
    "# %load config_fsu.txt\n",
    "[database] # required\n",
    "url = sqlite:///test_cli.sqlite\n",
    "site = pisces.tables.css3:Site\n",
    "wfdisc = pisces.tables.css3:Wfdisc\n",
    "affiliation = pisces.tables.css3:Affiliation\n",
    "\n",
    "\n",
    "\n",
    "[GeneralParams]\n",
    "year=2012\n",
    "dayofyearini=206\n",
    "dayofyearend=208\n",
    "station=FSU\n",
    "channel=EDF\n",
    "cpucnt=30\n",
    "domain=time\n",
    "\n",
    "\n",
    "[FKParams]\n",
    "name=mid band fk test\n",
    "freqmin=1\n",
    "freqmax=5.0\n",
    "beamwinlen=60\n",
    "beamwinstep=30\n",
    "algorithm=bartlett\n",
    "fkresults=fk_res_fsu\n",
    "numsources = 1\n",
    "backazmin=-180.0\n",
    "backazmax=180.0\n",
    "backazstep=1.5\n",
    "trvelmin=300.0\n",
    "trvelmax=600.0\n",
    "trvelstep=2.5\n",
    "minslowness=-3.6\n",
    "maxslowness=3.6\n",
    "stepslowness=0.1\n",
    "\n",
    "#func_fk = None\n",
    "\n",
    "[FDetectParams]\n",
    "backazlim=10\n",
    "detwinlen=300.0\n",
    "detthresh=0.99\n",
    "dsegmin=5\n",
    "detmethod=fstat\n",
    "tb_prod=4000\n",
    "adaptivewlen=120\n",
    "pthreshold=0.01\n",
    "corrthreshold=0.5\n",
    "mineventlength=10\n",
    "pfkid=0\n",
    "fkresults=fk_res_fsu\n",
    "fdresults=fd_res_fsu\n",
    "\n",
    "\n",
    "\n",
    "[AssocLocParams]\n",
    "network=YJ\n",
    "pfdetectid=0\n",
    "pfkid=2\n",
    "beamwidth=10.0\n",
    "rangemax=1000.0\n",
    "clusterthresh=4.0\n",
    "trimthresh=None\n",
    "eventdetmin=3\n",
    "eventarrmin=2\n",
    "duration = 60\n",
    "\n",
    "fdtable_1=fd_res_test_brp\n",
    "#fdtable_2=fd_res_fsu\n",
    "#fdtable_3=fd_res_wmu\n",
    "resultstable = test_assoc\n",
    "\n"
   ]
  },
  {
   "cell_type": "markdown",
   "metadata": {},
   "source": [
    "## Run Detection Processing at FSU"
   ]
  },
  {
   "cell_type": "code",
   "execution_count": null,
   "metadata": {},
   "outputs": [],
   "source": [
    "!infrapy run_fd --config_file config_fsu.txt"
   ]
  },
  {
   "cell_type": "markdown",
   "metadata": {},
   "source": [
    "## Using scripts to output processing results from the DB"
   ]
  },
  {
   "cell_type": "markdown",
   "metadata": {},
   "source": [
    "### Plot Detection Results [waveforms and Spectral Estimates]"
   ]
  },
  {
   "cell_type": "code",
   "execution_count": null,
   "metadata": {},
   "outputs": [],
   "source": [
    "!plot_fd.py -h"
   ]
  },
  {
   "cell_type": "code",
   "execution_count": null,
   "metadata": {},
   "outputs": [],
   "source": [
    "%matplotlib notebook\n",
    "%run ../scripts/plot_fd.py -d sqlite:///test_cli.sqlite -a FSU -f -0 -j 0 -t fk_res_fsu -T fd_res_fsu -s '2012-07-24T09:00:00' -e '2012-07-24T09:30:00'\n"
   ]
  },
  {
   "cell_type": "markdown",
   "metadata": {},
   "source": [
    "### Save Detection Results to Text File"
   ]
  },
  {
   "cell_type": "code",
   "execution_count": null,
   "metadata": {},
   "outputs": [],
   "source": [
    "!print_rfd.py -h"
   ]
  },
  {
   "cell_type": "code",
   "execution_count": null,
   "metadata": {},
   "outputs": [],
   "source": [
    "#!print_rfd.py -d sqlite:///test.sqlite -a FSU -f 0 -j 0 -t fd_res_fsu -o fsu_detect_res.txt"
   ]
  },
  {
   "cell_type": "markdown",
   "metadata": {},
   "source": [
    "### Print out all detection processing parameters used"
   ]
  },
  {
   "cell_type": "code",
   "execution_count": null,
   "metadata": {},
   "outputs": [],
   "source": [
    "!read_pfd.py -h"
   ]
  },
  {
   "cell_type": "code",
   "execution_count": null,
   "metadata": {},
   "outputs": [],
   "source": [
    "!read_pfd.py -d sqlite:///test_cli.sqlite"
   ]
  },
  {
   "cell_type": "markdown",
   "metadata": {},
   "source": [
    "## Run Detection Processing at Remaining Stations Within Network"
   ]
  },
  {
   "cell_type": "markdown",
   "metadata": {},
   "source": [
    "### Run Detection Processing at HWU"
   ]
  },
  {
   "cell_type": "code",
   "execution_count": null,
   "metadata": {},
   "outputs": [],
   "source": [
    "!infrapy run_fd --config_file config_hwu.txt"
   ]
  },
  {
   "cell_type": "markdown",
   "metadata": {},
   "source": [
    "## Run Detection Processing at LCM"
   ]
  },
  {
   "cell_type": "code",
   "execution_count": null,
   "metadata": {},
   "outputs": [],
   "source": [
    "!infrapy run_fd --config_file config_lcm.txt"
   ]
  },
  {
   "cell_type": "markdown",
   "metadata": {},
   "source": [
    "## Run Detection Processing at NOQ"
   ]
  },
  {
   "cell_type": "code",
   "execution_count": null,
   "metadata": {},
   "outputs": [],
   "source": [
    "!infrapy run_fd --config_file config_noq.txt"
   ]
  },
  {
   "cell_type": "markdown",
   "metadata": {},
   "source": [
    "## Run Detection Processing at PSU"
   ]
  },
  {
   "cell_type": "code",
   "execution_count": null,
   "metadata": {},
   "outputs": [],
   "source": [
    "!infrapy run_fd --config_file config_psu.txt"
   ]
  },
  {
   "cell_type": "markdown",
   "metadata": {},
   "source": [
    "## Run Detection Processing at WMU"
   ]
  },
  {
   "cell_type": "code",
   "execution_count": null,
   "metadata": {},
   "outputs": [],
   "source": [
    "!infrapy run_fd --config_file config_wmu.txt"
   ]
  },
  {
   "cell_type": "markdown",
   "metadata": {},
   "source": [
    "## Print Detection Results out from database to be used in Association or Location stand-alone processing"
   ]
  },
  {
   "cell_type": "code",
   "execution_count": null,
   "metadata": {},
   "outputs": [],
   "source": [
    "!detection_list.py -h"
   ]
  },
  {
   "cell_type": "code",
   "execution_count": null,
   "metadata": {},
   "outputs": [],
   "source": [
    "!detection_list.py -d sqlite:///test_cli.sqlite -a FSU -f 0 -j 0 -t fd_res_fsu -o fsu_detect_for_assoc.txt"
   ]
  },
  {
   "cell_type": "code",
   "execution_count": null,
   "metadata": {},
   "outputs": [],
   "source": [
    "# %load fsu_detect_for_assoc.txt\n",
    "#Lat\t Lon\tTime\tBack Az\tF-stat\tArray Dim\n",
    "39.719600677490234\t-113.38999938964844\t2012-07-24T00:04:00.008300Z\t49.4\t2.339\t4.000\n",
    "39.719600677490234\t-113.38999938964844\t2012-07-24T00:07:30.008300Z\t94.2\t1.926\t4.000\n",
    "39.719600677490234\t-113.38999938964844\t2012-07-24T00:10:00.008300Z\t49.4\t2.494\t4.000\n",
    "39.719600677490234\t-113.38999938964844\t2012-07-24T00:13:30.008300Z\t74.1\t1.613\t4.000\n",
    "39.719600677490234\t-113.38999938964844\t2012-07-24T00:21:30.008300Z\t103.5\t1.628\t4.000\n",
    "39.719600677490234\t-113.38999938964844\t2012-07-24T00:26:30.008300Z\t77.9\t1.945\t4.000\n",
    "39.719600677490234\t-113.38999938964844\t2012-07-24T00:45:00.008300Z\t94.2\t2.906\t4.000\n",
    "39.719600677490234\t-113.38999938964844\t2012-07-24T00:56:00.008300Z\t74.9\t2.351\t4.000\n",
    "39.719600677490234\t-113.38999938964844\t2012-07-24T01:01:00.008300Z\t101.3\t6.641\t4.000\n",
    "39.719600677490234\t-113.38999938964844\t2012-07-24T01:06:00.008300Z\t90.0\t2.078\t4.000\n",
    "39.719600677490234\t-113.38999938964844\t2012-07-24T01:15:00.008300Z\t83.7\t2.302\t4.000\n",
    "39.719600677490234\t-113.38999938964844\t2012-07-24T01:18:30.008300Z\t81.6\t2.096\t4.000\n",
    "39.719600677490234\t-113.38999938964844\t2012-07-24T01:42:00.008300Z\t229.4\t2.384\t4.000\n",
    "39.719600677490234\t-113.38999938964844\t2012-07-24T02:03:30.008300Z\t87.9\t1.953\t4.000\n",
    "39.719600677490234\t-113.38999938964844\t2012-07-24T02:16:30.008300Z\t90.0\t1.935\t4.000\n",
    "39.719600677490234\t-113.38999938964844\t2012-07-24T02:36:30.008300Z\t195.1\t1.641\t4.000\n",
    "39.719600677490234\t-113.38999938964844\t2012-07-24T02:42:00.008300Z\t83.7\t1.901\t4.000\n",
    "39.719600677490234\t-113.38999938964844\t2012-07-24T03:02:30.008300Z\t69.7\t1.626\t4.000\n",
    "39.719600677490234\t-113.38999938964844\t2012-07-24T03:07:00.008300Z\t124.3\t1.820\t4.000\n",
    "39.719600677490234\t-113.38999938964844\t2012-07-24T03:14:00.008300Z\t65.4\t1.638\t4.000\n",
    "39.719600677490234\t-113.38999938964844\t2012-07-24T03:17:30.008300Z\t81.6\t1.876\t4.000\n",
    "39.719600677490234\t-113.38999938964844\t2012-07-24T03:29:30.008300Z\t81.6\t1.753\t4.000\n",
    "39.719600677490234\t-113.38999938964844\t2012-07-24T04:12:30.008300Z\t175.8\t2.049\t4.000\n",
    "39.719600677490234\t-113.38999938964844\t2012-07-24T04:14:00.008300Z\t173.7\t2.654\t4.000\n",
    "39.719600677490234\t-113.38999938964844\t2012-07-24T04:16:00.008300Z\t171.6\t3.786\t4.000\n",
    "39.719600677490234\t-113.38999938964844\t2012-07-24T07:57:00.008300Z\t324.5\t1.631\t4.000\n",
    "39.719600677490234\t-113.38999938964844\t2012-07-24T08:45:30.008300Z\t113.5\t1.710\t4.000\n",
    "39.719600677490234\t-113.38999938964844\t2012-07-24T08:50:30.008300Z\t110.6\t1.548\t4.000\n",
    "39.719600677490234\t-113.38999938964844\t2012-07-24T08:53:00.008300Z\t111.4\t2.027\t4.000\n",
    "39.719600677490234\t-113.38999938964844\t2012-07-24T08:55:30.008300Z\t113.5\t1.697\t4.000\n",
    "39.719600677490234\t-113.38999938964844\t2012-07-24T08:58:30.008300Z\t101.3\t1.948\t4.000\n",
    "39.719600677490234\t-113.38999938964844\t2012-07-24T09:03:00.008300Z\t101.3\t1.885\t4.000\n",
    "39.719600677490234\t-113.38999938964844\t2012-07-24T09:07:30.008300Z\t105.6\t1.913\t4.000\n",
    "39.719600677490234\t-113.38999938964844\t2012-07-24T09:10:30.008300Z\t109.8\t1.738\t4.000\n",
    "39.719600677490234\t-113.38999938964844\t2012-07-24T09:16:00.008300Z\t103.5\t1.564\t4.000\n",
    "39.719600677490234\t-113.38999938964844\t2012-07-24T09:26:00.008300Z\t104.0\t1.845\t4.000\n",
    "39.719600677490234\t-113.38999938964844\t2012-07-24T10:46:00.008300Z\t70.9\t1.698\t4.000\n",
    "39.719600677490234\t-113.38999938964844\t2012-07-24T13:42:00.008300Z\t114.6\t2.092\t4.000\n",
    "39.719600677490234\t-113.38999938964844\t2012-07-24T15:26:30.008300Z\t358.0\t1.639\t4.000\n",
    "39.719600677490234\t-113.38999938964844\t2012-07-24T15:38:30.008300Z\t51.3\t1.638\t4.000\n",
    "39.719600677490234\t-113.38999938964844\t2012-07-24T15:58:00.008300Z\t57.5\t1.367\t4.000\n",
    "39.719600677490234\t-113.38999938964844\t2012-07-24T16:07:30.008300Z\t43.6\t1.568\t4.000\n",
    "39.719600677490234\t-113.38999938964844\t2012-07-24T16:23:00.008300Z\t103.0\t2.987\t4.000\n",
    "39.719600677490234\t-113.38999938964844\t2012-07-24T16:43:00.008300Z\t103.5\t1.475\t4.000\n",
    "39.719600677490234\t-113.38999938964844\t2012-07-24T17:03:30.008300Z\t43.6\t1.493\t4.000\n",
    "39.719600677490234\t-113.38999938964844\t2012-07-24T17:19:00.008300Z\t45.0\t1.449\t4.000\n",
    "39.719600677490234\t-113.38999938964844\t2012-07-24T17:26:00.008300Z\t46.5\t1.906\t4.000\n",
    "39.719600677490234\t-113.38999938964844\t2012-07-24T17:58:00.008300Z\t139.6\t1.809\t4.000\n",
    "39.719600677490234\t-113.38999938964844\t2012-07-24T18:21:30.008300Z\t55.7\t1.645\t4.000\n",
    "39.719600677490234\t-113.38999938964844\t2012-07-24T18:31:00.008300Z\t15.9\t2.458\t4.000\n",
    "39.719600677490234\t-113.38999938964844\t2012-07-24T18:35:30.008300Z\t54.5\t1.776\t4.000\n",
    "39.719600677490234\t-113.38999938964844\t2012-07-24T18:37:00.008300Z\t52.3\t2.446\t4.000\n",
    "39.719600677490234\t-113.38999938964844\t2012-07-24T18:41:30.008300Z\t16.5\t5.549\t4.000\n",
    "39.719600677490234\t-113.38999938964844\t2012-07-24T18:44:30.008300Z\t13.6\t16.949\t4.000\n",
    "39.719600677490234\t-113.38999938964844\t2012-07-24T18:49:00.008300Z\t72.9\t2.055\t4.000\n",
    "39.719600677490234\t-113.38999938964844\t2012-07-24T19:03:30.008300Z\t73.5\t1.625\t4.000\n",
    "39.719600677490234\t-113.38999938964844\t2012-07-24T19:05:30.008300Z\t79.5\t1.630\t4.000\n",
    "39.719600677490234\t-113.38999938964844\t2012-07-24T19:09:00.008300Z\t141.3\t1.675\t4.000\n",
    "39.719600677490234\t-113.38999938964844\t2012-07-24T19:10:30.008300Z\t142.7\t1.834\t4.000\n",
    "39.719600677490234\t-113.38999938964844\t2012-07-24T19:30:00.008300Z\t133.2\t1.499\t4.000\n",
    "39.719600677490234\t-113.38999938964844\t2012-07-24T19:54:00.008300Z\t124.4\t1.574\t4.000\n",
    "39.719600677490234\t-113.38999938964844\t2012-07-24T20:02:00.008300Z\t130.1\t1.868\t4.000\n",
    "39.719600677490234\t-113.38999938964844\t2012-07-24T20:06:00.008300Z\t133.3\t1.556\t4.000\n",
    "39.719600677490234\t-113.38999938964844\t2012-07-24T20:08:30.008300Z\t138.2\t2.907\t4.000\n",
    "39.719600677490234\t-113.38999938964844\t2012-07-24T20:11:00.008300Z\t139.9\t1.781\t4.000\n",
    "39.719600677490234\t-113.38999938964844\t2012-07-24T20:25:30.008300Z\t141.3\t2.598\t4.000\n",
    "39.719600677490234\t-113.38999938964844\t2012-07-24T20:53:30.008300Z\t121.8\t2.545\t4.000\n",
    "39.719600677490234\t-113.38999938964844\t2012-07-24T21:03:30.008300Z\t116.6\t1.496\t4.000\n",
    "39.719600677490234\t-113.38999938964844\t2012-07-24T21:13:30.008300Z\t144.5\t2.582\t4.000\n",
    "39.719600677490234\t-113.38999938964844\t2012-07-24T21:16:30.008300Z\t151.4\t3.417\t4.000\n",
    "39.719600677490234\t-113.38999938964844\t2012-07-24T21:25:00.008300Z\t152.4\t2.141\t4.000\n",
    "39.719600677490234\t-113.38999938964844\t2012-07-24T21:28:00.008300Z\t18.4\t2.625\t4.000\n",
    "39.719600677490234\t-113.38999938964844\t2012-07-24T21:34:00.008300Z\t0.0\t14.351\t4.000\n",
    "39.719600677490234\t-113.38999938964844\t2012-07-24T21:50:30.008300Z\t3.9\t1.845\t4.000\n",
    "39.719600677490234\t-113.38999938964844\t2012-07-24T23:31:30.008300Z\t84.1\t1.443\t4.000\n",
    "39.719600677490234\t-113.38999938964844\t2012-07-24T23:46:00.008300Z\t240.5\t16.696\t4.000\n",
    "39.719600677490234\t-113.38999938964844\t2012-07-24T23:47:00.008300Z\t231.3\t7.644\t4.000\n",
    "39.719600677490234\t-113.38999938964844\t2012-07-24T23:56:00.008300Z\t154.3\t1.417\t4.000\n",
    "39.719600677490234\t-113.38999938964844\t2012-07-24T00:00:00.000000Z\t13.6\t16.949\t4.000\n",
    "39.719600677490234\t-113.38999938964844\t2012-07-24T00:00:00.000000Z\t13.6\t16.949\t4.000\n"
   ]
  },
  {
   "cell_type": "code",
   "execution_count": null,
   "metadata": {},
   "outputs": [],
   "source": []
  },
  {
   "cell_type": "code",
   "execution_count": null,
   "metadata": {},
   "outputs": [],
   "source": []
  }
 ],
 "metadata": {
  "kernelspec": {
   "display_name": "Python 3",
   "language": "python",
   "name": "python3"
  },
  "language_info": {
   "codemirror_mode": {
    "name": "ipython",
    "version": 3
   },
   "file_extension": ".py",
   "mimetype": "text/x-python",
   "name": "python",
   "nbconvert_exporter": "python",
   "pygments_lexer": "ipython3",
   "version": "3.6.10"
  }
 },
 "nbformat": 4,
 "nbformat_minor": 2
}
