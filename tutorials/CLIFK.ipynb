{
 "cells": [
  {
   "cell_type": "markdown",
   "metadata": {},
   "source": [
    "# FK Processing (CLI)"
   ]
  },
  {
   "cell_type": "markdown",
   "metadata": {},
   "source": [
    "A series of steps illustrating how to begin processing infrasonic data utilizing the command line methods of Infrapy"
   ]
  },
  {
   "cell_type": "markdown",
   "metadata": {},
   "source": [
    "## Building a database for processing"
   ]
  },
  {
   "cell_type": "markdown",
   "metadata": {},
   "source": [
    "The CLI methods in Infrapy depend on a relational SQL database for pointing to data for processing and storing processing results. In this tutorial, we will build a SQLite database out of SAC files provided in the /test folder, and begin FK processing."
   ]
  },
  {
   "cell_type": "code",
   "execution_count": null,
   "metadata": {},
   "outputs": [],
   "source": [
    "import warnings\n",
    "warnings.filterwarnings(\"ignore\")\n",
    "\n",
    "%matplotlib notebook"
   ]
  },
  {
   "cell_type": "code",
   "execution_count": null,
   "metadata": {},
   "outputs": [],
   "source": [
    "!pisces sac2db sqlite:///test_cli.sqlite ../infrapy-data/cli/*.SAC"
   ]
  },
  {
   "cell_type": "markdown",
   "metadata": {},
   "source": [
    "As infrapy is an array processing tool, after your sqlite database is created, you will need to update the REFSTA for each array using update_refsta.py"
   ]
  },
  {
   "cell_type": "code",
   "execution_count": null,
   "metadata": {},
   "outputs": [],
   "source": [
    "%run ../scripts/update_refsta.py sqlite:///test_cli.sqlite FSU\n",
    "%run ../scripts/update_refsta.py sqlite:///test_cli.sqlite HWU\n",
    "%run ../scripts/update_refsta.py sqlite:///test_cli.sqlite LCM\n",
    "%run ../scripts/update_refsta.py sqlite:///test_cli.sqlite PSU\n",
    "%run ../scripts/update_refsta.py sqlite:///test_cli.sqlite WMU"
   ]
  },
  {
   "cell_type": "markdown",
   "metadata": {},
   "source": [
    "## Updating Configuration File for Processing"
   ]
  },
  {
   "cell_type": "markdown",
   "metadata": {},
   "source": [
    "An example configuration file is provided in the /test folder. A full description of each section of the configuration file is provided in the documentation.\n",
    "The configuration file outlines the database you wish to process in, the specific parameters for processing and the station [or network for assocation processing] to use. For simplicity within this tutorial, since we have loaded data from five separate arrays into the database, we will call processing in the same database with five different files."
   ]
  },
  {
   "cell_type": "markdown",
   "metadata": {},
   "source": [
    "### Viewing the configuration file"
   ]
  },
  {
   "cell_type": "markdown",
   "metadata": {},
   "source": [
    "We can use the %load command to view a configuration file within this notebook."
   ]
  },
  {
   "cell_type": "code",
   "execution_count": null,
   "metadata": {},
   "outputs": [],
   "source": [
    "#%load config_fsu.txt\n",
    "[database] # required\n",
    "url = sqlite:///test_cli.sqlite\n",
    "site = pisces.tables.css3:Site\n",
    "wfdisc = pisces.tables.css3:Wfdisc\n",
    "affiliation = pisces.tables.css3:Affiliation\n",
    "\n",
    "[GeneralParams]\n",
    "year=2012\n",
    "dayofyearini=206\n",
    "dayofyearend=208\n",
    "station=FSU\n",
    "channel=EDF\n",
    "name=test\n",
    "cpucnt=30\n",
    "\n",
    "\n",
    "[FKParams]\n",
    "name=mid band fk test\n",
    "freqmin=0.5\n",
    "freqmax=5\n",
    "beamwinlen=60\n",
    "beamwinstep=30\n",
    "backazmin=-180.0\n",
    "backazmax=180.0\n",
    "backazstep=1.5\n",
    "trvelmin=300.0\n",
    "trvelmax=600.0\n",
    "trvelstep=2.5\n",
    "beammethod=bartlett\n",
    "fkresults=fk_res_fsu\n",
    "numsources = 1\n",
    "func_fk = None\n",
    "\n",
    "[FDetectParams]\n",
    "detwinlen=1800.0\n",
    "detthresh=0.99\n",
    "dsegmin=5\n",
    "back_az_lim=15\n",
    "detmethod=fstat\n",
    "tb_prod=4000\n",
    "pfkid=0\n",
    "fkresults=fk_res_fsu\n",
    "fdresults=fd_res_fsu\n",
    "\n",
    "\n",
    "\n",
    "\n",
    "[AssocLocParams]\n",
    "network=YJ\n",
    "pfdetectid=0\n",
    "pfkid=0\n",
    "distmax=10.0\n",
    "beamwidth=10.0\n",
    "rangemax=1000.0\n",
    "clusterthresh=4.0\n",
    "trimthresh=None\n",
    "trimthreshscalar=1.0\n",
    "mindetpop=3\n",
    "minarraypop=2\n",
    "duration = 60\n",
    "name=test\n",
    "fdtable_1=fd_res_fsu\n",
    "fdtable_2=fd_res_hwu\n",
    "fdtable_3=fd_res_lcm\n",
    "fdtable_4=fd_res_psu\n",
    "fdtable_5=fd_res_wmu\n",
    "resultstable = test_assoc_1\n",
    "\n"
   ]
  },
  {
   "cell_type": "code",
   "execution_count": null,
   "metadata": {},
   "outputs": [],
   "source": [
    "!infrapy run_fk --config_file config_fsu.txt"
   ]
  },
  {
   "cell_type": "markdown",
   "metadata": {},
   "source": [
    "## Using scripts to output processing results from the DB"
   ]
  },
  {
   "cell_type": "markdown",
   "metadata": {},
   "source": [
    "### Plot FK Results"
   ]
  },
  {
   "cell_type": "code",
   "execution_count": null,
   "metadata": {},
   "outputs": [],
   "source": [
    "!plot1_rfk.py -h"
   ]
  },
  {
   "cell_type": "code",
   "execution_count": null,
   "metadata": {},
   "outputs": [],
   "source": [
    "%run ../scripts/plot1_rfk.py -d sqlite:///test_cli.sqlite -a FSU -domain time -f 0 -t fk_res_fsu "
   ]
  },
  {
   "cell_type": "markdown",
   "metadata": {},
   "source": [
    "### Save FK results to text file"
   ]
  },
  {
   "cell_type": "code",
   "execution_count": null,
   "metadata": {},
   "outputs": [],
   "source": [
    "!print_fk.py -h"
   ]
  },
  {
   "cell_type": "code",
   "execution_count": null,
   "metadata": {},
   "outputs": [],
   "source": [
    "#!print_fk.py -d sqlite:///test.sqlite -a FSU -t fk_res_fsu -f 0 -o fsu_fk.txt"
   ]
  },
  {
   "cell_type": "markdown",
   "metadata": {},
   "source": [
    "### Print out all FK processing parameters used"
   ]
  },
  {
   "cell_type": "code",
   "execution_count": null,
   "metadata": {},
   "outputs": [],
   "source": [
    "!read_pfk.py -h"
   ]
  },
  {
   "cell_type": "code",
   "execution_count": null,
   "metadata": {},
   "outputs": [],
   "source": [
    "!read_pfk.py -d sqlite:///test_cli.sqlite"
   ]
  },
  {
   "cell_type": "markdown",
   "metadata": {},
   "source": [
    "### Plot PSD of data"
   ]
  },
  {
   "cell_type": "code",
   "execution_count": null,
   "metadata": {},
   "outputs": [],
   "source": [
    "!plot_psd_array.py -h"
   ]
  },
  {
   "cell_type": "code",
   "execution_count": null,
   "metadata": {},
   "outputs": [],
   "source": [
    "%matplotlib notebook\n",
    "%run ../scripts/plot_psd_array.py -d sqlite:///test_cli.sqlite -a FSU -S '2012-07-24T08:50:00' -E '2012-07-24T09:20:00' -l 200"
   ]
  },
  {
   "cell_type": "markdown",
   "metadata": {},
   "source": [
    "## Repeat same processing steps on the other arrays within the network"
   ]
  },
  {
   "cell_type": "markdown",
   "metadata": {},
   "source": [
    "### Running CLI FK Processing on data from HWU"
   ]
  },
  {
   "cell_type": "code",
   "execution_count": null,
   "metadata": {},
   "outputs": [],
   "source": [
    "!infrapy run_fk --config_file config_hwu.txt"
   ]
  },
  {
   "cell_type": "markdown",
   "metadata": {},
   "source": [
    "### Running CLI FK Processing on data from LCM"
   ]
  },
  {
   "cell_type": "code",
   "execution_count": null,
   "metadata": {},
   "outputs": [],
   "source": [
    "!infrapy run_fk --config_file config_lcm.txt"
   ]
  },
  {
   "cell_type": "markdown",
   "metadata": {},
   "source": [
    "### Running CLI FK Processing on data from NOQ"
   ]
  },
  {
   "cell_type": "code",
   "execution_count": null,
   "metadata": {},
   "outputs": [],
   "source": [
    "!infrapy run_fk --config_file config_noq.txt"
   ]
  },
  {
   "cell_type": "markdown",
   "metadata": {},
   "source": [
    "### Running CLI FK Processing on data from PSU"
   ]
  },
  {
   "cell_type": "code",
   "execution_count": null,
   "metadata": {},
   "outputs": [],
   "source": [
    "!infrapy run_fk --config_file config_psu.txt"
   ]
  },
  {
   "cell_type": "markdown",
   "metadata": {},
   "source": [
    "### Running CLI FK Processing on data from WMU"
   ]
  },
  {
   "cell_type": "code",
   "execution_count": null,
   "metadata": {},
   "outputs": [],
   "source": [
    "!infrapy run_fk --config_file config_wmu.txt"
   ]
  },
  {
   "cell_type": "code",
   "execution_count": null,
   "metadata": {},
   "outputs": [],
   "source": []
  },
  {
   "cell_type": "code",
   "execution_count": null,
   "metadata": {},
   "outputs": [],
   "source": []
  }
 ],
 "metadata": {
  "kernelspec": {
   "display_name": "Python 3",
   "language": "python",
   "name": "python3"
  },
  "language_info": {
   "codemirror_mode": {
    "name": "ipython",
    "version": 3
   },
   "file_extension": ".py",
   "mimetype": "text/x-python",
   "name": "python",
   "nbconvert_exporter": "python",
   "pygments_lexer": "ipython3",
   "version": "3.6.10"
  }
 },
 "nbformat": 4,
 "nbformat_minor": 2
}
