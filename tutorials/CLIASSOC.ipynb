{
 "cells": [
  {
   "cell_type": "markdown",
   "metadata": {},
   "source": [
    "# Assocation Processing (CLI)"
   ]
  },
  {
   "cell_type": "markdown",
   "metadata": {},
   "source": [
    "A series of steps to run association following methods in Blom et al (2020)"
   ]
  },
  {
   "cell_type": "markdown",
   "metadata": {},
   "source": [
    "This notebook is dependent on successfully running FK and FD processing on two or more arrays in the FKCLI + FDCLI notebooks"
   ]
  },
  {
   "cell_type": "code",
   "execution_count": null,
   "metadata": {},
   "outputs": [],
   "source": [
    "import warnings\n",
    "warnings.filterwarnings(\"ignore\")\n",
    "\n",
    "%matplotlib notebook"
   ]
  },
  {
   "cell_type": "markdown",
   "metadata": {},
   "source": [
    "## Viewing the configuration file"
   ]
  },
  {
   "cell_type": "markdown",
   "metadata": {},
   "source": [
    "We will use a different configuration files than we used in the previous notebook. You can use the %load command to view detection parameters"
   ]
  },
  {
   "cell_type": "code",
   "execution_count": null,
   "metadata": {},
   "outputs": [],
   "source": [
    "# %load config_assoc.txt\n",
    "[database] # required\n",
    "url = sqlite:///test.sqlite\n",
    "site = pisces.tables.css3:Site\n",
    "wfdisc = pisces.tables.css3:Wfdisc\n",
    "affiliation = pisces.tables.css3:Affiliation\n",
    "\n",
    "\n",
    "\n",
    "[GeneralParams]\n",
    "year=2012\n",
    "dayofyearini=206\n",
    "dayofyearend=208\n",
    "station=FSU\n",
    "channel=EDF\n",
    "cpucnt=30\n",
    "domain=time\n",
    "\n",
    "\n",
    "[FKParams]\n",
    "name=mid band fk test\n",
    "freqmin=1\n",
    "freqmax=5.0\n",
    "beamwinlen=60\n",
    "beamwinstep=30\n",
    "algorithm=bartlett\n",
    "fkresults=fk_res_fsu\n",
    "numsources = 1\n",
    "backazmin=-180.0\n",
    "backazmax=180.0\n",
    "backazstep=1.5\n",
    "trvelmin=300.0\n",
    "trvelmax=600.0\n",
    "trvelstep=2.5\n",
    "minslowness=-3.6\n",
    "maxslowness=3.6\n",
    "stepslowness=0.1\n",
    "\n",
    "#func_fk = None\n",
    "\n",
    "[FDetectParams]\n",
    "backazlim=10\n",
    "detwinlen=300.0\n",
    "detthresh=0.99\n",
    "dsegmin=5\n",
    "detmethod=fstat\n",
    "tb_prod=4000\n",
    "adaptivewlen=120\n",
    "pthreshold=0.01\n",
    "corrthreshold=0.5\n",
    "mineventlength=10\n",
    "pfkid=0\n",
    "fkresults=fk_res_fsu\n",
    "fdresults=fd_res_fsu\n",
    "\n",
    "\n",
    "[AssocLocParams]\n",
    "network=YJ\n",
    "pfdetectid=0\n",
    "pfkid=0\n",
    "distmax=10.0\n",
    "beamwidth=10.0\n",
    "rangemax=1000.0\n",
    "clusterthresh=4.0\n",
    "trimthresh=None\n",
    "trimthreshscalar=1.0\n",
    "mindetpop=3\n",
    "minarraypop=2\n",
    "duration = 60\n",
    "name=test\n",
    "fdtable_1=fd_res_fsu\n",
    "fdtable_2=fd_res_hwu\n",
    "fdtable_3=fd_res_lcm\n",
    "fdtable_4=fd_res_psu\n",
    "fdtable_5=fd_res_wmu\n",
    "resultstable = test_assoc_1\n",
    "\n"
   ]
  },
  {
   "cell_type": "markdown",
   "metadata": {},
   "source": [
    "## Run Assocation Processing"
   ]
  },
  {
   "cell_type": "code",
   "execution_count": null,
   "metadata": {
    "scrolled": false
   },
   "outputs": [],
   "source": [
    "!infrapy run_assoc --config_file config_assoc.txt"
   ]
  },
  {
   "cell_type": "markdown",
   "metadata": {},
   "source": [
    "## Print Association Results"
   ]
  },
  {
   "cell_type": "code",
   "execution_count": null,
   "metadata": {
    "scrolled": true
   },
   "outputs": [],
   "source": [
    "!read_rassoc.py -h"
   ]
  },
  {
   "cell_type": "code",
   "execution_count": null,
   "metadata": {},
   "outputs": [],
   "source": [
    "!read_rassoc.py -d sqlite:///test_cli.sqlite -n YJ -t test_assoc_1 -i 0"
   ]
  },
  {
   "cell_type": "code",
   "execution_count": null,
   "metadata": {},
   "outputs": [],
   "source": []
  }
 ],
 "metadata": {
  "kernelspec": {
   "display_name": "Python 3",
   "language": "python",
   "name": "python3"
  },
  "language_info": {
   "codemirror_mode": {
    "name": "ipython",
    "version": 3
   },
   "file_extension": ".py",
   "mimetype": "text/x-python",
   "name": "python",
   "nbconvert_exporter": "python",
   "pygments_lexer": "ipython3",
   "version": "3.6.10"
  }
 },
 "nbformat": 4,
 "nbformat_minor": 2
}
