{
 "cells": [
  {
   "cell_type": "markdown",
   "metadata": {},
   "source": [
    "# FK Processing (CLI)"
   ]
  },
  {
   "cell_type": "markdown",
   "metadata": {},
   "source": [
    "A series of steps illustrating how to begin processing infrasonic data utilizing the command line methods of Infrapy"
   ]
  },
  {
   "cell_type": "markdown",
   "metadata": {},
   "source": [
    "## Building a database for processing"
   ]
  },
  {
   "cell_type": "markdown",
   "metadata": {},
   "source": [
    "The CLI methods in Infrapy depend on a relational SQL database for pointing to data for processing and storing processing results. In this tutorial, we will build a SQLite database out of SAC files provided in the /test folder, and begin FK processing."
   ]
  },
  {
   "cell_type": "code",
   "execution_count": 17,
   "metadata": {},
   "outputs": [
    {
     "name": "stdout",
     "output_type": "stream",
     "text": [
      "sac2db: {'session': <sqlalchemy.orm.session.Session object at 0x7ff0481a4d10>, 'db': 'sqlite:///test.sqlite', 'files': ('../../test/data/cli/YJ.FSU1..EDF.M.2012.206.000000.SAC', '../../test/data/cli/YJ.FSU2..EDF.M.2012.206.000000.SAC', '../../test/data/cli/YJ.FSU3..EDF.M.2012.206.000000.SAC', '../../test/data/cli/YJ.FSU4..EDF.M.2012.206.000000.SAC', '../../test/data/cli/YJ.HWU1..EDF.M.2012.206.000000.SAC', '../../test/data/cli/YJ.HWU2..EDF.M.2012.206.000000.SAC', '../../test/data/cli/YJ.HWU3..EDF.M.2012.206.000000.SAC', '../../test/data/cli/YJ.HWU4..EDF.M.2012.206.000000.SAC', '../../test/data/cli/YJ.LCM1..EDF.M.2012.206.000000.SAC', '../../test/data/cli/YJ.LCM2..EDF.M.2012.206.000000.SAC', '../../test/data/cli/YJ.LCM3..EDF.M.2012.206.000000.SAC', '../../test/data/cli/YJ.LCM4..EDF.M.2012.206.000000.SAC', '../../test/data/cli/YJ.PSU1..EDF.M.2012.206.000000.SAC', '../../test/data/cli/YJ.PSU2..EDF.M.2012.206.000000.SAC', '../../test/data/cli/YJ.PSU3..EDF.M.2012.206.000000.SAC', '../../test/data/cli/YJ.PSU4..EDF.M.2012.206.000000.SAC', '../../test/data/cli/YJ.WMU1..EDF.M.2012.206.000000.SAC', '../../test/data/cli/YJ.WMU2..EDF.M.2012.206.000000.SAC', '../../test/data/cli/YJ.WMU3..EDF.M.2012.206.000000.SAC', '../../test/data/cli/YJ.WMU4..EDF.M.2012.206.000000.SAC'), 'tables': None, 'prefix': '', 'absolute_paths': False, 'bbfk': False, 'file_list': None}\n",
      "../../test/data/cli/YJ.FSU1..EDF.M.2012.206.000000.SAC\n",
      "rollback affiliation\n",
      "rollback event\n",
      "rollback instrument\n",
      "rollback origin\n",
      "rollback site\n",
      "rollback sitechan\n",
      "rollback wfdisc\n",
      "../../test/data/cli/YJ.FSU2..EDF.M.2012.206.000000.SAC\n",
      "rollback affiliation\n",
      "rollback event\n",
      "rollback instrument\n",
      "rollback origin\n",
      "rollback site\n",
      "rollback sitechan\n",
      "rollback wfdisc\n",
      "../../test/data/cli/YJ.FSU3..EDF.M.2012.206.000000.SAC\n",
      "rollback affiliation\n",
      "rollback event\n",
      "rollback instrument\n",
      "rollback origin\n",
      "rollback site\n",
      "rollback sitechan\n",
      "rollback wfdisc\n",
      "../../test/data/cli/YJ.FSU4..EDF.M.2012.206.000000.SAC\n",
      "rollback affiliation\n",
      "rollback event\n",
      "rollback instrument\n",
      "rollback origin\n",
      "rollback site\n",
      "rollback sitechan\n",
      "rollback wfdisc\n",
      "../../test/data/cli/YJ.HWU1..EDF.M.2012.206.000000.SAC\n",
      "rollback affiliation\n",
      "rollback event\n",
      "rollback instrument\n",
      "rollback origin\n",
      "rollback site\n",
      "rollback sitechan\n",
      "rollback wfdisc\n",
      "../../test/data/cli/YJ.HWU2..EDF.M.2012.206.000000.SAC\n",
      "rollback affiliation\n",
      "rollback event\n",
      "rollback instrument\n",
      "rollback origin\n",
      "rollback site\n",
      "rollback sitechan\n",
      "rollback wfdisc\n",
      "../../test/data/cli/YJ.HWU3..EDF.M.2012.206.000000.SAC\n",
      "rollback affiliation\n",
      "rollback event\n",
      "rollback instrument\n",
      "rollback origin\n",
      "rollback site\n",
      "rollback sitechan\n",
      "rollback wfdisc\n",
      "../../test/data/cli/YJ.HWU4..EDF.M.2012.206.000000.SAC\n",
      "rollback affiliation\n",
      "rollback event\n",
      "rollback instrument\n",
      "rollback origin\n",
      "rollback site\n",
      "rollback sitechan\n",
      "rollback wfdisc\n",
      "../../test/data/cli/YJ.LCM1..EDF.M.2012.206.000000.SAC\n",
      "rollback affiliation\n",
      "rollback event\n",
      "rollback instrument\n",
      "rollback origin\n",
      "rollback site\n",
      "rollback sitechan\n",
      "rollback wfdisc\n",
      "../../test/data/cli/YJ.LCM2..EDF.M.2012.206.000000.SAC\n",
      "rollback affiliation\n",
      "rollback event\n",
      "rollback instrument\n",
      "rollback origin\n",
      "rollback site\n",
      "rollback sitechan\n",
      "rollback wfdisc\n",
      "../../test/data/cli/YJ.LCM3..EDF.M.2012.206.000000.SAC\n",
      "rollback affiliation\n",
      "rollback event\n",
      "rollback instrument\n",
      "rollback origin\n",
      "rollback site\n",
      "rollback sitechan\n",
      "rollback wfdisc\n",
      "../../test/data/cli/YJ.LCM4..EDF.M.2012.206.000000.SAC\n",
      "rollback affiliation\n",
      "rollback event\n",
      "rollback instrument\n",
      "rollback origin\n",
      "rollback site\n",
      "rollback sitechan\n",
      "rollback wfdisc\n",
      "../../test/data/cli/YJ.PSU1..EDF.M.2012.206.000000.SAC\n",
      "rollback affiliation\n",
      "rollback event\n",
      "rollback instrument\n",
      "rollback origin\n",
      "rollback site\n",
      "rollback sitechan\n",
      "rollback wfdisc\n",
      "../../test/data/cli/YJ.PSU2..EDF.M.2012.206.000000.SAC\n",
      "rollback affiliation\n",
      "rollback event\n",
      "rollback instrument\n",
      "rollback origin\n",
      "rollback site\n",
      "rollback sitechan\n",
      "rollback wfdisc\n",
      "../../test/data/cli/YJ.PSU3..EDF.M.2012.206.000000.SAC\n",
      "rollback affiliation\n",
      "rollback event\n",
      "rollback instrument\n",
      "rollback origin\n",
      "rollback site\n",
      "rollback sitechan\n",
      "rollback wfdisc\n",
      "../../test/data/cli/YJ.PSU4..EDF.M.2012.206.000000.SAC\n",
      "rollback affiliation\n",
      "rollback event\n",
      "rollback instrument\n",
      "rollback origin\n",
      "rollback site\n",
      "rollback sitechan\n",
      "rollback wfdisc\n",
      "../../test/data/cli/YJ.WMU1..EDF.M.2012.206.000000.SAC\n",
      "rollback affiliation\n",
      "rollback event\n",
      "rollback instrument\n",
      "rollback origin\n",
      "rollback site\n",
      "rollback sitechan\n",
      "rollback wfdisc\n",
      "../../test/data/cli/YJ.WMU2..EDF.M.2012.206.000000.SAC\n",
      "rollback affiliation\n",
      "rollback event\n",
      "rollback instrument\n",
      "rollback origin\n",
      "rollback site\n",
      "rollback sitechan\n",
      "rollback wfdisc\n",
      "../../test/data/cli/YJ.WMU3..EDF.M.2012.206.000000.SAC\n",
      "rollback affiliation\n",
      "rollback event\n",
      "rollback instrument\n",
      "rollback origin\n",
      "rollback site\n",
      "rollback sitechan\n",
      "rollback wfdisc\n",
      "../../test/data/cli/YJ.WMU4..EDF.M.2012.206.000000.SAC\n",
      "rollback affiliation\n",
      "rollback event\n",
      "rollback instrument\n",
      "rollback origin\n",
      "rollback site\n",
      "rollback sitechan\n",
      "rollback wfdisc\n"
     ]
    }
   ],
   "source": [
    "!pisces sac2db sqlite:///test.sqlite ../../test/data/cli/*.SAC"
   ]
  },
  {
   "cell_type": "markdown",
   "metadata": {},
   "source": [
    "As infrapy is an array processing tool, after your sqlite database is created, you will need to update the REFSTA for each array using update_refsta.py"
   ]
  },
  {
   "cell_type": "code",
   "execution_count": 2,
   "metadata": {},
   "outputs": [
    {
     "name": "stdout",
     "output_type": "stream",
     "text": [
      "SQLITE database\n",
      "SQLITE database\n",
      "SQLITE database\n",
      "SQLITE database\n",
      "SQLITE database\n"
     ]
    }
   ],
   "source": [
    "%run ../../scripts/update_refsta.py sqlite:///test.sqlite FSU\n",
    "%run ../../scripts/update_refsta.py sqlite:///test.sqlite HWU\n",
    "%run ../../scripts/update_refsta.py sqlite:///test.sqlite LCM\n",
    "%run ../../scripts/update_refsta.py sqlite:///test.sqlite PSU\n",
    "%run ../../scripts/update_refsta.py sqlite:///test.sqlite WMU"
   ]
  },
  {
   "cell_type": "code",
   "execution_count": null,
   "metadata": {},
   "outputs": [],
   "source": [
    "mv sqlite:///test.sqlite"
   ]
  },
  {
   "cell_type": "markdown",
   "metadata": {},
   "source": [
    "## Updating Configuration File for Processing"
   ]
  },
  {
   "cell_type": "markdown",
   "metadata": {},
   "source": [
    "An example configuration file is provided in the /test folder. A full description of each section of the configuration file is provided in the documentation.\n",
    "The configuration file outlines the database you wish to process in, the specific parameters for processing and the station [or network for assocation processing] to use. For simplicity within this tutorial, since we have loaded data from five separate arrays into the database, we will call processing in the same database with five different files."
   ]
  },
  {
   "cell_type": "markdown",
   "metadata": {},
   "source": [
    "### Viewing the configuration file"
   ]
  },
  {
   "cell_type": "markdown",
   "metadata": {},
   "source": [
    "We can use the %load command to view a configuration file within this notebook."
   ]
  },
  {
   "cell_type": "code",
   "execution_count": 15,
   "metadata": {},
   "outputs": [
    {
     "ename": "SyntaxError",
     "evalue": "invalid syntax (<ipython-input-15-d4156d8f8370>, line 5)",
     "output_type": "error",
     "traceback": [
      "\u001b[0;36m  File \u001b[0;32m\"<ipython-input-15-d4156d8f8370>\"\u001b[0;36m, line \u001b[0;32m5\u001b[0m\n\u001b[0;31m    url = sqlite:///test_detect.sqlite\u001b[0m\n\u001b[0m                ^\u001b[0m\n\u001b[0;31mSyntaxError\u001b[0m\u001b[0;31m:\u001b[0m invalid syntax\n"
     ]
    }
   ],
   "source": [
    "# %load ../../test/db_processing_test/config_example.txt\n",
    "\n",
    "\n",
    "[database] # required\n",
    "url = sqlite:///test_detect.sqlite\n",
    "site = pisces.tables.css3:Site\n",
    "wfdisc = pisces.tables.css3:Wfdisc\n",
    "affiliation = pisces.tables.css3:Affiliation\n",
    "\n",
    "[GeneralParams]\n",
    "year=2012\n",
    "dayofyearini=206\n",
    "dayofyearend=208\n",
    "station=BRP\n",
    "channel=EDF\n",
    "name=test\n",
    "cpucnt=30\n",
    "\n",
    "\n",
    "[FKParams]\n",
    "name=mid band fk test\n",
    "freqmin=1\n",
    "freqmax=3.0\n",
    "beamwinlen=60\n",
    "beamwinstep=30\n",
    "backazmin=-180.0\n",
    "backazmax=180.0\n",
    "backazstep=1.5\n",
    "trvelmin=300.0\n",
    "trvelmax=600.0\n",
    "trvelstep=2.5\n",
    "beammethod=bartlett\n",
    "fkresults=fk_res_lcm\n",
    "numsources = 1\n",
    "func_fk = None\n",
    "\n",
    "[FDetectParams]\n",
    "detwinlen=1800.0\n",
    "detthresh=0.99\n",
    "dsegmin=5\n",
    "back_az_lim=15\n",
    "detmethod=fstat\n",
    "tb_prod=4000\n",
    "pfkid=0\n",
    "fkresults=fk_res_brp\n",
    "fdresults=fd_res_brp\n",
    "\n",
    "\n",
    "\n",
    "[AssocLocParams]\n",
    "network=YJ\n",
    "pfdetectid=0\n",
    "pfkid=0\n",
    "beamwidth=10.0\n",
    "rangemax=1000.0\n",
    "distmax = 10.0\n",
    "clusterthresh=4.0\n",
    "trimthresh=3.0\n",
    "eventdetmin=3\n",
    "eventarrmin=2\n",
    "duration = 60\n",
    "\n",
    "fdtable_1=fd_res_brp\n",
    "fdtable_2=fd_res_fsu\n",
    "fdtable_3=fd_res_hwu\n",
    "resultstable = test_assoc6\n",
    "\n"
   ]
  },
  {
   "cell_type": "code",
   "execution_count": null,
   "metadata": {},
   "outputs": [],
   "source": [
    "# %load ../../test/db_processing_test/config_example.txt\n",
    "%%writefile ../../test/db_processing_test/config_example.txt\n"
   ]
  },
  {
   "cell_type": "code",
   "execution_count": 13,
   "metadata": {},
   "outputs": [
    {
     "ename": "SyntaxError",
     "evalue": "invalid syntax (<ipython-input-13-e6b0781879c1>, line 5)",
     "output_type": "error",
     "traceback": [
      "\u001b[0;36m  File \u001b[0;32m\"<ipython-input-13-e6b0781879c1>\"\u001b[0;36m, line \u001b[0;32m5\u001b[0m\n\u001b[0;31m    url = sqlite:///test_detect.sqlite\u001b[0m\n\u001b[0m                ^\u001b[0m\n\u001b[0;31mSyntaxError\u001b[0m\u001b[0;31m:\u001b[0m invalid syntax\n"
     ]
    }
   ],
   "source": [
    "# %load ../../test/db_processing_test/config_example.txt\n",
    "%%writefile ../../test/db_processing_test/config_example.txt\n",
    "\n",
    "[database] \n",
    "url = sqlite:///test_detect.sqlite\n",
    "site = pisces.tables.css3:Site\n",
    "wfdisc = pisces.tables.css3:Wfdisc\n",
    "affiliation = pisces.tables.css3:Affiliation\n",
    "\n",
    "[GeneralParams]\n",
    "year=2012\n",
    "dayofyearini=206\n",
    "dayofyearend=208\n",
    "station=FSU\n",
    "channel=EDF\n",
    "name=test\n",
    "cpucnt=30\n",
    "\n",
    "\n",
    "[FKParams]\n",
    "name=mid band fk test\n",
    "freqmin=.5\n",
    "freqmax=5.0\n",
    "beamwinlen=60\n",
    "beamwinstep=30\n",
    "backazmin=-180.0\n",
    "backazmax=180.0\n",
    "backazstep=1.5\n",
    "trvelmin=300.0\n",
    "trvelmax=600.0\n",
    "trvelstep=2.5\n",
    "beammethod=bartlett\n",
    "fkresults=fk_res_fsu\n",
    "numsources = 1\n",
    "func_fk = None\n",
    "\n",
    "[FDetectParams]\n",
    "detwinlen=1800.0\n",
    "detthresh=0.99\n",
    "dsegmin=5\n",
    "back_az_lim=15\n",
    "detmethod=fstat\n",
    "tb_prod=4000\n",
    "pfkid=0\n",
    "fkresults=fk_res_brp\n",
    "fdresults=fd_res_brp\n",
    "\n",
    "\n",
    "\n",
    "[AssocLocParams]\n",
    "network=YJ\n",
    "pfdetectid=0\n",
    "pfkid=0\n",
    "beamwidth=10.0\n",
    "rangemax=1000.0\n",
    "distmax = 10.0\n",
    "clusterthresh=4.0\n",
    "trimthresh=3.0\n",
    "eventdetmin=3\n",
    "eventarrmin=2\n",
    "duration = 60\n",
    "\n",
    "fdtable_1=fd_res_brp\n",
    "fdtable_2=fd_res_fsu\n",
    "fdtable_3=fd_res_hwu\n",
    "resultstable = test_assoc6\n",
    "\n"
   ]
  },
  {
   "cell_type": "markdown",
   "metadata": {},
   "source": [
    "## Running CLI FK Processing"
   ]
  },
  {
   "cell_type": "code",
   "execution_count": 11,
   "metadata": {},
   "outputs": [
    {
     "name": "stderr",
     "output_type": "stream",
     "text": [
      "UsageError: %%writefile is a cell magic, but the cell body is empty.\n"
     ]
    }
   ],
   "source": [
    "%%writefile ../../test/db_processing_test/config_example.txt"
   ]
  },
  {
   "cell_type": "code",
   "execution_count": null,
   "metadata": {},
   "outputs": [],
   "source": [
    "!infrapy run_fk --config_file ../../test/db_processing_test/config_example.txt"
   ]
  },
  {
   "cell_type": "code",
   "execution_count": null,
   "metadata": {},
   "outputs": [],
   "source": [
    "## Print FK Results"
   ]
  },
  {
   "cell_type": "code",
   "execution_count": null,
   "metadata": {},
   "outputs": [],
   "source": [
    "## Plot FK Results"
   ]
  },
  {
   "cell_type": "code",
   "execution_count": null,
   "metadata": {},
   "outputs": [],
   "source": [
    "## Change FK parameters, re-run processing"
   ]
  },
  {
   "cell_type": "code",
   "execution_count": null,
   "metadata": {},
   "outputs": [],
   "source": [
    "## Change station and results table in config file, re-run processing"
   ]
  }
 ],
 "metadata": {
  "kernelspec": {
   "display_name": "Python 3",
   "language": "python",
   "name": "python3"
  },
  "language_info": {
   "codemirror_mode": {
    "name": "ipython",
    "version": 3
   },
   "file_extension": ".py",
   "mimetype": "text/x-python",
   "name": "python",
   "nbconvert_exporter": "python",
   "pygments_lexer": "ipython3",
   "version": "3.7.4"
  }
 },
 "nbformat": 4,
 "nbformat_minor": 2
}
