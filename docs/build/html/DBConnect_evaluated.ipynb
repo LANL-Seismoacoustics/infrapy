{
 "cells": [
  {
   "cell_type": "markdown",
   "metadata": {},
   "source": [
    "# Establishing a Database Connection"
   ]
  },
  {
   "cell_type": "markdown",
   "metadata": {},
   "source": [
    "A series of steps illustrating how to build a database, establish a database connection, test the database connection and pull data utilizing Pisces."
   ]
  },
  {
   "cell_type": "markdown",
   "metadata": {},
   "source": [
    "## Building a Database"
   ]
  },
  {
   "cell_type": "markdown",
   "metadata": {},
   "source": [
    "Data in miniseed or sac formats can be loaded into a sqlite database using commands from pisces. In this tutorial, we will build a sqlite database from a series of SAC files contained in test/data/cli"
   ]
  },
  {
   "cell_type": "code",
   "execution_count": 1,
   "metadata": {},
   "outputs": [
    {
     "name": "stdout",
     "output_type": "stream",
     "text": [
      "Usage: pisces sac2db [OPTIONS] DB [FILES]...\r\n",
      "\r\n",
      "  Scrape SAC files into database tables.\r\n",
      "\r\n",
      "  SAC files may be used to produce the following tables: Wfdisc, Site,\r\n",
      "  Sitechan, Origin, Event, Arrival, Assoc, Lastid, and Instrument.  Id\r\n",
      "  numbering will follow the Lastid table, if one is found, otherwise it will\r\n",
      "  start from 1.\r\n",
      "\r\n",
      "  Examples -------- # use standard table names to local test.sqlite file\r\n",
      "  pisces sac2db sqlite:///test.sqlite datadir/*.sac\r\n",
      "\r\n",
      "  # prefix all tables in an oracle account with prefix my_, prompt for\r\n",
      "  password pisces sac2db --prefix my_\r\n",
      "  oracle://user@server.domain.com:port/dbname datadir/*.sac\r\n",
      "\r\n",
      "  # if there are too many SAC files for the shell to handle, use a list:\r\n",
      "  find datadir -name \"*.sac\" -print > saclist.txt sac2db.py\r\n",
      "  sqlite:///test.sqlite saclist.txt\r\n",
      "\r\n",
      "Options:\r\n",
      "  -t, --tables owner.tablename[,...]\r\n",
      "                                  Comma-separated (no spaces), list of tables\r\n",
      "                                  to create.  Default is all core tables with\r\n",
      "                                  standard names.\r\n",
      "  -p, --prefix TEXT               Target tables using 'account.prefix naming.\r\n",
      "                                  e.g. myaccount.test_ will target tables like\r\n",
      "                                  myaccount.test_origin,\r\n",
      "                                  myaccount.test_sitechan.\r\n",
      "  -A, --absolute_paths            If set, write database 'dir' directory\r\n",
      "                                  entries as absolute paths, not relative.\r\n",
      "  --bbfk                          If set, get site.deast and dnorth from SAC\r\n",
      "                                  user7 & user8 header fields.\r\n",
      "  -l, --file_list FILENAME        A list file, one file name per line.\r\n",
      "  -h, --help                      Show this message and exit.\r\n"
     ]
    }
   ],
   "source": [
    "! pisces sac2db -h"
   ]
  },
  {
   "cell_type": "code",
   "execution_count": 2,
   "metadata": {},
   "outputs": [
    {
     "name": "stdout",
     "output_type": "stream",
     "text": [
      "sac2db: {'session': <sqlalchemy.orm.session.Session object at 0x7fc628108250>, 'db': 'sqlite:///test.sqlite', 'files': ('../data/cli/*.SAC',), 'tables': None, 'prefix': '', 'absolute_paths': False, 'bbfk': False, 'file_list': None}\r\n",
      "../data/cli/*.SAC\r\n",
      "Traceback (most recent call last):\r\n",
      "  File \"//anaconda3/envs/pygs1.0/bin/pisces\", line 10, in <module>\r\n",
      "    sys.exit(cli())\r\n",
      "  File \"//anaconda3/envs/pygs1.0/lib/python3.7/site-packages/click/core.py\", line 764, in __call__\r\n",
      "    return self.main(*args, **kwargs)\r\n",
      "  File \"//anaconda3/envs/pygs1.0/lib/python3.7/site-packages/click/core.py\", line 717, in main\r\n",
      "    rv = self.invoke(ctx)\r\n",
      "  File \"//anaconda3/envs/pygs1.0/lib/python3.7/site-packages/click/core.py\", line 1137, in invoke\r\n",
      "    return _process_result(sub_ctx.command.invoke(sub_ctx))\r\n",
      "  File \"//anaconda3/envs/pygs1.0/lib/python3.7/site-packages/click/core.py\", line 956, in invoke\r\n",
      "    return ctx.invoke(self.callback, **ctx.params)\r\n",
      "  File \"//anaconda3/envs/pygs1.0/lib/python3.7/site-packages/click/core.py\", line 555, in invoke\r\n",
      "    return callback(*args, **kwargs)\r\n",
      "  File \"//anaconda3/envs/pygs1.0/lib/python3.7/site-packages/pisces/commands/main.py\", line 151, in sac2db_command\r\n",
      "    sac2db.main(session=session, **kwargs)\r\n",
      "  File \"//anaconda3/envs/pygs1.0/lib/python3.7/site-packages/pisces/commands/sac2db.py\", line 225, in main\r\n",
      "    tr = read(sacfile, format='SAC', debug_headers=True)[0]\r\n",
      "  File \"<//anaconda3/envs/pygs1.0/lib/python3.7/site-packages/decorator.py:decorator-gen-31>\", line 2, in read\r\n",
      "  File \"//anaconda3/envs/pygs1.0/lib/python3.7/site-packages/obspy/core/util/decorator.py\", line 301, in _map_example_filename\r\n",
      "    return func(*args, **kwargs)\r\n",
      "  File \"//anaconda3/envs/pygs1.0/lib/python3.7/site-packages/obspy/core/stream.py\", line 239, in read\r\n",
      "    raise Exception(\"No file matching file pattern: %s\" % pathname)\r\n",
      "Exception: No file matching file pattern: ../data/cli/*.SAC\r\n"
     ]
    }
   ],
   "source": [
    "!pisces sac2db sqlite:///test.sqlite ../data/cli/*.SAC"
   ]
  },
  {
   "cell_type": "markdown",
   "metadata": {},
   "source": [
    "As infrapy is an array processing tool, after your sqlite database is created, you will need to update the REFSTA for each array using update_refsta.py"
   ]
  },
  {
   "cell_type": "code",
   "execution_count": 3,
   "metadata": {},
   "outputs": [
    {
     "name": "stderr",
     "output_type": "stream",
     "text": [
      "ERROR:root:File `'../../scripts/update_refsta.py'` not found.\n",
      "ERROR:root:File `'../../scripts/update_refsta.py'` not found.\n",
      "ERROR:root:File `'../../scripts/update_refsta.py'` not found.\n",
      "ERROR:root:File `'../../scripts/update_refsta.py'` not found.\n",
      "ERROR:root:File `'../../scripts/update_refsta.py'` not found.\n"
     ]
    }
   ],
   "source": [
    "%run ../../scripts/update_refsta.py sqlite:///test.sqlite FSU\n",
    "%run ../../scripts/update_refsta.py sqlite:///test.sqlite HWU\n",
    "%run ../../scripts/update_refsta.py sqlite:///test.sqlite LCM\n",
    "%run ../../scripts/update_refsta.py sqlite:///test.sqlite PSU\n",
    "%run ../../scripts/update_refsta.py sqlite:///test.sqlite WMU"
   ]
  },
  {
   "cell_type": "markdown",
   "metadata": {},
   "source": [
    "## Querying the Database"
   ]
  },
  {
   "cell_type": "markdown",
   "metadata": {},
   "source": [
    "We can now connect to our database and practice querying"
   ]
  },
  {
   "cell_type": "code",
   "execution_count": 4,
   "metadata": {},
   "outputs": [],
   "source": [
    "import pisces as ps\n",
    "\n",
    "session = ps.db_connect(backend='sqlite', instance='test.sqlite')"
   ]
  },
  {
   "cell_type": "code",
   "execution_count": 5,
   "metadata": {},
   "outputs": [
    {
     "data": {
      "text/plain": [
       "<sqlalchemy.orm.session.Session at 0x7fc4983f7850>"
      ]
     },
     "execution_count": 5,
     "metadata": {},
     "output_type": "execute_result"
    }
   ],
   "source": [
    "session"
   ]
  },
  {
   "cell_type": "markdown",
   "metadata": {},
   "source": [
    "The tables used in this tutorial are all standard CSS3.0 tables, we define these tables in order to query the database we have created."
   ]
  },
  {
   "cell_type": "code",
   "execution_count": 6,
   "metadata": {},
   "outputs": [],
   "source": [
    "from pisces.tables.css3 import Site, Wfdisc, Origin"
   ]
  },
  {
   "cell_type": "code",
   "execution_count": 7,
   "metadata": {},
   "outputs": [],
   "source": [
    "q = session.query(Site).all()"
   ]
  },
  {
   "cell_type": "code",
   "execution_count": 8,
   "metadata": {},
   "outputs": [
    {
     "data": {
      "text/plain": [
       "[Site(sta='FSU1', ondate=-1),\n",
       " Site(sta='FSU2', ondate=-1),\n",
       " Site(sta='FSU3', ondate=-1),\n",
       " Site(sta='FSU4', ondate=-1),\n",
       " Site(sta='HWU1', ondate=-1),\n",
       " Site(sta='HWU2', ondate=-1),\n",
       " Site(sta='HWU3', ondate=-1),\n",
       " Site(sta='HWU4', ondate=-1),\n",
       " Site(sta='LCM1', ondate=-1),\n",
       " Site(sta='LCM2', ondate=-1),\n",
       " Site(sta='LCM3', ondate=-1),\n",
       " Site(sta='LCM4', ondate=-1),\n",
       " Site(sta='PSU1', ondate=-1),\n",
       " Site(sta='PSU2', ondate=-1),\n",
       " Site(sta='PSU3', ondate=-1),\n",
       " Site(sta='PSU4', ondate=-1),\n",
       " Site(sta='WMU1', ondate=-1),\n",
       " Site(sta='WMU2', ondate=-1),\n",
       " Site(sta='WMU3', ondate=-1),\n",
       " Site(sta='WMU4', ondate=-1)]"
      ]
     },
     "execution_count": 8,
     "metadata": {},
     "output_type": "execute_result"
    }
   ],
   "source": [
    "q"
   ]
  },
  {
   "cell_type": "code",
   "execution_count": 9,
   "metadata": {},
   "outputs": [],
   "source": [
    "refsta = session.query(Site).filter(Site.refsta == 'FSU').all()"
   ]
  },
  {
   "cell_type": "code",
   "execution_count": 10,
   "metadata": {},
   "outputs": [
    {
     "data": {
      "text/plain": [
       "[Site(sta='FSU1', ondate=-1),\n",
       " Site(sta='FSU2', ondate=-1),\n",
       " Site(sta='FSU3', ondate=-1),\n",
       " Site(sta='FSU4', ondate=-1)]"
      ]
     },
     "execution_count": 10,
     "metadata": {},
     "output_type": "execute_result"
    }
   ],
   "source": [
    "refsta"
   ]
  },
  {
   "cell_type": "markdown",
   "metadata": {},
   "source": [
    "### Retrieve and plot waveforms from a query"
   ]
  },
  {
   "cell_type": "code",
   "execution_count": 11,
   "metadata": {},
   "outputs": [],
   "source": [
    "from pisces import wfdisc2trace, read_waveform"
   ]
  },
  {
   "cell_type": "code",
   "execution_count": 12,
   "metadata": {},
   "outputs": [
    {
     "ename": "FileNotFoundError",
     "evalue": "[Errno 2] No such file or directory: '../../test/data/cli/YJ.FSU1..EDF.M.2012.206.000000.SAC'",
     "output_type": "error",
     "traceback": [
      "\u001b[0;31m---------------------------------------------------------------------------\u001b[0m",
      "\u001b[0;31mFileNotFoundError\u001b[0m                         Traceback (most recent call last)",
      "\u001b[0;32m<ipython-input-12-40d9f3bfeae4>\u001b[0m in \u001b[0;36m<module>\u001b[0;34m\u001b[0m\n\u001b[1;32m      1\u001b[0m \u001b[0mget_ipython\u001b[0m\u001b[0;34m(\u001b[0m\u001b[0;34m)\u001b[0m\u001b[0;34m.\u001b[0m\u001b[0mrun_line_magic\u001b[0m\u001b[0;34m(\u001b[0m\u001b[0;34m'matplotlib'\u001b[0m\u001b[0;34m,\u001b[0m \u001b[0;34m'notebook'\u001b[0m\u001b[0;34m)\u001b[0m\u001b[0;34m\u001b[0m\u001b[0;34m\u001b[0m\u001b[0m\n\u001b[1;32m      2\u001b[0m \u001b[0;32mfor\u001b[0m \u001b[0mwf\u001b[0m \u001b[0;32min\u001b[0m \u001b[0msession\u001b[0m\u001b[0;34m.\u001b[0m\u001b[0mquery\u001b[0m\u001b[0;34m(\u001b[0m\u001b[0mWfdisc\u001b[0m\u001b[0;34m)\u001b[0m\u001b[0;34m.\u001b[0m\u001b[0mfilter\u001b[0m\u001b[0;34m(\u001b[0m\u001b[0mWfdisc\u001b[0m\u001b[0;34m.\u001b[0m\u001b[0mchan\u001b[0m \u001b[0;34m==\u001b[0m \u001b[0;34m'EDF'\u001b[0m\u001b[0;34m)\u001b[0m\u001b[0;34m.\u001b[0m\u001b[0mlimit\u001b[0m\u001b[0;34m(\u001b[0m\u001b[0;36m4\u001b[0m\u001b[0;34m)\u001b[0m\u001b[0;34m:\u001b[0m\u001b[0;34m\u001b[0m\u001b[0;34m\u001b[0m\u001b[0m\n\u001b[0;32m----> 3\u001b[0;31m     \u001b[0mtr\u001b[0m \u001b[0;34m=\u001b[0m \u001b[0mwfdisc2trace\u001b[0m\u001b[0;34m(\u001b[0m\u001b[0mwf\u001b[0m\u001b[0;34m)\u001b[0m\u001b[0;34m\u001b[0m\u001b[0;34m\u001b[0m\u001b[0m\n\u001b[0m\u001b[1;32m      4\u001b[0m     \u001b[0mdata\u001b[0m \u001b[0;34m=\u001b[0m \u001b[0mread_waveform\u001b[0m\u001b[0;34m(\u001b[0m\u001b[0mwf\u001b[0m\u001b[0;34m.\u001b[0m\u001b[0mdir\u001b[0m \u001b[0;34m+\u001b[0m \u001b[0;34m'/'\u001b[0m \u001b[0;34m+\u001b[0m \u001b[0mwf\u001b[0m\u001b[0;34m.\u001b[0m\u001b[0mdfile\u001b[0m\u001b[0;34m,\u001b[0m \u001b[0mwf\u001b[0m\u001b[0;34m.\u001b[0m\u001b[0mdatatype\u001b[0m\u001b[0;34m,\u001b[0m \u001b[0mwf\u001b[0m\u001b[0;34m.\u001b[0m\u001b[0mfoff\u001b[0m\u001b[0;34m,\u001b[0m \u001b[0mwf\u001b[0m\u001b[0;34m.\u001b[0m\u001b[0mnsamp\u001b[0m\u001b[0;34m)\u001b[0m\u001b[0;34m\u001b[0m\u001b[0;34m\u001b[0m\u001b[0m\n\u001b[1;32m      5\u001b[0m     \u001b[0mtr\u001b[0m\u001b[0;34m.\u001b[0m\u001b[0mplot\u001b[0m\u001b[0;34m(\u001b[0m\u001b[0;34m)\u001b[0m\u001b[0;34m\u001b[0m\u001b[0;34m\u001b[0m\u001b[0m\n",
      "\u001b[0;32m//anaconda3/envs/pygs1.0/lib/python3.7/site-packages/pisces/io/trace.py\u001b[0m in \u001b[0;36mwfdisc2trace\u001b[0;34m(wf)\u001b[0m\n\u001b[1;32m     35\u001b[0m \u001b[0;34m\u001b[0m\u001b[0m\n\u001b[1;32m     36\u001b[0m     data = read_waveform(os.sep.join([wf.dir, wf.dfile]), wf.datatype, wf.foff,\n\u001b[0;32m---> 37\u001b[0;31m                          wf.nsamp)\n\u001b[0m\u001b[1;32m     38\u001b[0m \u001b[0;34m\u001b[0m\u001b[0m\n\u001b[1;32m     39\u001b[0m     \u001b[0;32mif\u001b[0m \u001b[0mdata\u001b[0m \u001b[0;32mis\u001b[0m \u001b[0;32mnot\u001b[0m \u001b[0;32mNone\u001b[0m\u001b[0;34m:\u001b[0m\u001b[0;34m\u001b[0m\u001b[0;34m\u001b[0m\u001b[0m\n",
      "\u001b[0;32m//anaconda3/envs/pygs1.0/lib/python3.7/site-packages/pisces/io/readwaveform.py\u001b[0m in \u001b[0;36mread_waveform\u001b[0;34m(DATAFILE, DATATYPE, BYTEOFFSET, NUM)\u001b[0m\n\u001b[1;32m     72\u001b[0m         \u001b[0mdata\u001b[0m \u001b[0;34m=\u001b[0m \u001b[0mnumpy_read\u001b[0m\u001b[0;34m(\u001b[0m\u001b[0mDATAFILE\u001b[0m\u001b[0;34m,\u001b[0m \u001b[0mBYTEOFFSET\u001b[0m\u001b[0;34m,\u001b[0m \u001b[0mNUM\u001b[0m\u001b[0;34m,\u001b[0m \u001b[0;34m'rb'\u001b[0m\u001b[0;34m,\u001b[0m \u001b[0mNPTYPE\u001b[0m\u001b[0;34m[\u001b[0m\u001b[0mDATATYPE\u001b[0m\u001b[0;34m]\u001b[0m\u001b[0;34m)\u001b[0m\u001b[0;34m\u001b[0m\u001b[0;34m\u001b[0m\u001b[0m\n\u001b[1;32m     73\u001b[0m     \u001b[0;32melif\u001b[0m \u001b[0mDATATYPE\u001b[0m \u001b[0;32min\u001b[0m \u001b[0mOBSPYTYPE\u001b[0m\u001b[0;34m:\u001b[0m\u001b[0;34m\u001b[0m\u001b[0;34m\u001b[0m\u001b[0m\n\u001b[0;32m---> 74\u001b[0;31m         \u001b[0mdata\u001b[0m \u001b[0;34m=\u001b[0m \u001b[0mread\u001b[0m\u001b[0;34m(\u001b[0m\u001b[0mDATAFILE\u001b[0m\u001b[0;34m,\u001b[0m \u001b[0mformat\u001b[0m\u001b[0;34m=\u001b[0m\u001b[0mOBSPYTYPE\u001b[0m\u001b[0;34m[\u001b[0m\u001b[0mDATATYPE\u001b[0m\u001b[0;34m]\u001b[0m\u001b[0;34m)\u001b[0m\u001b[0;34m[\u001b[0m\u001b[0;36m0\u001b[0m\u001b[0;34m]\u001b[0m\u001b[0;34m.\u001b[0m\u001b[0mdata\u001b[0m\u001b[0;34m\u001b[0m\u001b[0;34m\u001b[0m\u001b[0m\n\u001b[0m\u001b[1;32m     75\u001b[0m     \u001b[0;32melif\u001b[0m \u001b[0mDATATYPE\u001b[0m \u001b[0;34m==\u001b[0m \u001b[0;34m'sd'\u001b[0m\u001b[0;34m:\u001b[0m\u001b[0;34m\u001b[0m\u001b[0;34m\u001b[0m\u001b[0m\n\u001b[1;32m     76\u001b[0m         \u001b[0;31m# this datatype is not well-suited for a wfdisc, as it supports\u001b[0m\u001b[0;34m\u001b[0m\u001b[0;34m\u001b[0m\u001b[0;34m\u001b[0m\u001b[0m\n",
      "\u001b[0;32m<//anaconda3/envs/pygs1.0/lib/python3.7/site-packages/decorator.py:decorator-gen-156>\u001b[0m in \u001b[0;36mread\u001b[0;34m(pathname_or_url, format, headonly, starttime, endtime, nearest_sample, dtype, apply_calib, check_compression, **kwargs)\u001b[0m\n",
      "\u001b[0;32m//anaconda3/envs/pygs1.0/lib/python3.7/site-packages/obspy/core/util/decorator.py\u001b[0m in \u001b[0;36m_map_example_filename\u001b[0;34m(func, *args, **kwargs)\u001b[0m\n\u001b[1;32m    299\u001b[0m                         \u001b[0;32mexcept\u001b[0m \u001b[0mIOError\u001b[0m\u001b[0;34m:\u001b[0m\u001b[0;34m\u001b[0m\u001b[0;34m\u001b[0m\u001b[0m\n\u001b[1;32m    300\u001b[0m                             \u001b[0;32mpass\u001b[0m\u001b[0;34m\u001b[0m\u001b[0;34m\u001b[0m\u001b[0m\n\u001b[0;32m--> 301\u001b[0;31m         \u001b[0;32mreturn\u001b[0m \u001b[0mfunc\u001b[0m\u001b[0;34m(\u001b[0m\u001b[0;34m*\u001b[0m\u001b[0margs\u001b[0m\u001b[0;34m,\u001b[0m \u001b[0;34m**\u001b[0m\u001b[0mkwargs\u001b[0m\u001b[0;34m)\u001b[0m\u001b[0;34m\u001b[0m\u001b[0;34m\u001b[0m\u001b[0m\n\u001b[0m\u001b[1;32m    302\u001b[0m     \u001b[0;32mreturn\u001b[0m \u001b[0m_map_example_filename\u001b[0m\u001b[0;34m\u001b[0m\u001b[0;34m\u001b[0m\u001b[0m\n\u001b[1;32m    303\u001b[0m \u001b[0;34m\u001b[0m\u001b[0m\n",
      "\u001b[0;32m//anaconda3/envs/pygs1.0/lib/python3.7/site-packages/obspy/core/stream.py\u001b[0m in \u001b[0;36mread\u001b[0;34m(pathname_or_url, format, headonly, starttime, endtime, nearest_sample, dtype, apply_calib, check_compression, **kwargs)\u001b[0m\n\u001b[1;32m    239\u001b[0m                 \u001b[0;32mraise\u001b[0m \u001b[0mException\u001b[0m\u001b[0;34m(\u001b[0m\u001b[0;34m\"No file matching file pattern: %s\"\u001b[0m \u001b[0;34m%\u001b[0m \u001b[0mpathname\u001b[0m\u001b[0;34m)\u001b[0m\u001b[0;34m\u001b[0m\u001b[0;34m\u001b[0m\u001b[0m\n\u001b[1;32m    240\u001b[0m             \u001b[0;32melif\u001b[0m \u001b[0;32mnot\u001b[0m \u001b[0mhas_magic\u001b[0m\u001b[0;34m(\u001b[0m\u001b[0mpathname\u001b[0m\u001b[0;34m)\u001b[0m \u001b[0;32mand\u001b[0m \u001b[0;32mnot\u001b[0m \u001b[0mos\u001b[0m\u001b[0;34m.\u001b[0m\u001b[0mpath\u001b[0m\u001b[0;34m.\u001b[0m\u001b[0misfile\u001b[0m\u001b[0;34m(\u001b[0m\u001b[0mpathname\u001b[0m\u001b[0;34m)\u001b[0m\u001b[0;34m:\u001b[0m\u001b[0;34m\u001b[0m\u001b[0;34m\u001b[0m\u001b[0m\n\u001b[0;32m--> 241\u001b[0;31m                 \u001b[0;32mraise\u001b[0m \u001b[0mIOError\u001b[0m\u001b[0;34m(\u001b[0m\u001b[0;36m2\u001b[0m\u001b[0;34m,\u001b[0m \u001b[0;34m\"No such file or directory\"\u001b[0m\u001b[0;34m,\u001b[0m \u001b[0mpathname\u001b[0m\u001b[0;34m)\u001b[0m\u001b[0;34m\u001b[0m\u001b[0;34m\u001b[0m\u001b[0m\n\u001b[0m\u001b[1;32m    242\u001b[0m             \u001b[0;31m# Only raise error if no start/end time has been set. This\u001b[0m\u001b[0;34m\u001b[0m\u001b[0;34m\u001b[0m\u001b[0;34m\u001b[0m\u001b[0m\n\u001b[1;32m    243\u001b[0m             \u001b[0;31m# will return an empty stream if the user chose a time window with\u001b[0m\u001b[0;34m\u001b[0m\u001b[0;34m\u001b[0m\u001b[0;34m\u001b[0m\u001b[0m\n",
      "\u001b[0;31mFileNotFoundError\u001b[0m: [Errno 2] No such file or directory: '../../test/data/cli/YJ.FSU1..EDF.M.2012.206.000000.SAC'"
     ]
    }
   ],
   "source": [
    "%matplotlib notebook\n",
    "for wf in session.query(Wfdisc).filter(Wfdisc.chan == 'EDF').limit(4):\n",
    "    tr = wfdisc2trace(wf)\n",
    "    data = read_waveform(wf.dir + '/' + wf.dfile, wf.datatype, wf.foff, wf.nsamp)\n",
    "    tr.plot()"
   ]
  },
  {
   "cell_type": "code",
   "execution_count": null,
   "metadata": {},
   "outputs": [],
   "source": []
  },
  {
   "cell_type": "code",
   "execution_count": null,
   "metadata": {},
   "outputs": [],
   "source": []
  }
 ],
 "metadata": {
  "kernelspec": {
   "display_name": "Python 3",
   "language": "python",
   "name": "python3"
  },
  "language_info": {
   "codemirror_mode": {
    "name": "ipython",
    "version": 3
   },
   "file_extension": ".py",
   "mimetype": "text/x-python",
   "name": "python",
   "nbconvert_exporter": "python",
   "pygments_lexer": "ipython3",
   "version": "3.7.4"
  }
 },
 "nbformat": 4,
 "nbformat_minor": 2
}
